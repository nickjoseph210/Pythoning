{
 "cells": [
  {
   "cell_type": "markdown",
   "metadata": {},
   "source": [
    "### If Statements\n",
    "\n",
    "- conditionals that dictate the direction of the program **if** certain criteria are met"
   ]
  },
  {
   "cell_type": "markdown",
   "metadata": {},
   "source": [
    "**Starting example: dogs**"
   ]
  },
  {
   "cell_type": "code",
   "execution_count": 1,
   "metadata": {},
   "outputs": [
    {
     "name": "stdout",
     "output_type": "stream",
     "text": [
      "SNUFF\n",
      "Frank\n",
      "Rocky\n",
      "Steve\n"
     ]
    }
   ],
   "source": [
    "dogs = [\"snuff\", \"frank\", \"rocky\", \"steve\"]\n",
    "\n",
    "for dog in dogs: \n",
    "    if dog == \"snuff\":\n",
    "        print(dog.upper())\n",
    "    else:\n",
    "        print(dog.title())\n"
   ]
  },
  {
   "cell_type": "markdown",
   "metadata": {},
   "source": [
    "**The conditional test - immensely valuable in function writing**\n",
    "\n",
    "- Trues and Falses\n",
    "\n",
    "- in Pandas DataFrames, these are masks\n",
    "\n",
    "- '==' is the check; it *asks* 'Is this left side equal to this right side?'"
   ]
  },
  {
   "cell_type": "code",
   "execution_count": 3,
   "metadata": {},
   "outputs": [
    {
     "data": {
      "text/plain": [
       "True"
      ]
     },
     "execution_count": 3,
     "metadata": {},
     "output_type": "execute_result"
    }
   ],
   "source": [
    "# set conditional by saying 'dog is snuff'\n",
    "dog = \"snuff\"\n",
    "\n",
    "# check to see if the dog value is indeed 'snuff'\n",
    "\n",
    "dog == \"snuff\"\n"
   ]
  },
  {
   "cell_type": "code",
   "execution_count": 4,
   "metadata": {},
   "outputs": [
    {
     "data": {
      "text/plain": [
       "False"
      ]
     },
     "execution_count": 4,
     "metadata": {},
     "output_type": "execute_result"
    }
   ],
   "source": [
    "# check\n",
    "\n",
    "dog == \"rocky\""
   ]
  },
  {
   "cell_type": "code",
   "execution_count": 5,
   "metadata": {},
   "outputs": [],
   "source": [
    "# ^^Checks out."
   ]
  },
  {
   "cell_type": "code",
   "execution_count": 7,
   "metadata": {},
   "outputs": [
    {
     "data": {
      "text/plain": [
       "False"
      ]
     },
     "execution_count": 7,
     "metadata": {},
     "output_type": "execute_result"
    }
   ],
   "source": [
    "# Ignoring case - since not all letters are equal, lowercase the '==' check:\n",
    "\n",
    "car = \"BMW\"\n",
    "car == \"bmw\""
   ]
  },
  {
   "cell_type": "code",
   "execution_count": 8,
   "metadata": {},
   "outputs": [
    {
     "data": {
      "text/plain": [
       "True"
      ]
     },
     "execution_count": 8,
     "metadata": {},
     "output_type": "execute_result"
    }
   ],
   "source": [
    "car.lower() == \"bmw\""
   ]
  },
  {
   "cell_type": "code",
   "execution_count": 9,
   "metadata": {},
   "outputs": [
    {
     "name": "stdout",
     "output_type": "stream",
     "text": [
      "BMW\n"
     ]
    }
   ],
   "source": [
    "print(car)"
   ]
  },
  {
   "cell_type": "markdown",
   "metadata": {},
   "source": [
    "**'!=' is an INequality check.  It says 'Not Equal To'**"
   ]
  },
  {
   "cell_type": "code",
   "execution_count": 11,
   "metadata": {},
   "outputs": [
    {
     "data": {
      "text/plain": [
       "True"
      ]
     },
     "execution_count": 11,
     "metadata": {},
     "output_type": "execute_result"
    }
   ],
   "source": [
    "buddy = \"Rocky\"\n",
    "buddy != \"bill\""
   ]
  },
  {
   "cell_type": "code",
   "execution_count": 12,
   "metadata": {},
   "outputs": [
    {
     "data": {
      "text/plain": [
       "False"
      ]
     },
     "execution_count": 12,
     "metadata": {},
     "output_type": "execute_result"
    }
   ],
   "source": [
    "buddy == \"rocky\""
   ]
  },
  {
   "cell_type": "code",
   "execution_count": 13,
   "metadata": {},
   "outputs": [
    {
     "data": {
      "text/plain": [
       "True"
      ]
     },
     "execution_count": 13,
     "metadata": {},
     "output_type": "execute_result"
    }
   ],
   "source": [
    "buddy.lower() == \"rocky\""
   ]
  },
  {
   "cell_type": "code",
   "execution_count": 14,
   "metadata": {},
   "outputs": [
    {
     "data": {
      "text/plain": [
       "False"
      ]
     },
     "execution_count": 14,
     "metadata": {},
     "output_type": "execute_result"
    }
   ],
   "source": [
    "legal_age = 21\n",
    "legal_age == 20"
   ]
  },
  {
   "cell_type": "code",
   "execution_count": 15,
   "metadata": {},
   "outputs": [
    {
     "data": {
      "text/plain": [
       "True"
      ]
     },
     "execution_count": 15,
     "metadata": {},
     "output_type": "execute_result"
    }
   ],
   "source": [
    "legal_age != 20"
   ]
  },
  {
   "cell_type": "code",
   "execution_count": 16,
   "metadata": {},
   "outputs": [
    {
     "data": {
      "text/plain": [
       "True"
      ]
     },
     "execution_count": 16,
     "metadata": {},
     "output_type": "execute_result"
    }
   ],
   "source": [
    "legal_age >= 20"
   ]
  },
  {
   "cell_type": "code",
   "execution_count": 17,
   "metadata": {},
   "outputs": [
    {
     "data": {
      "text/plain": [
       "False"
      ]
     },
     "execution_count": 17,
     "metadata": {},
     "output_type": "execute_result"
    }
   ],
   "source": [
    "legal_age <= 20"
   ]
  },
  {
   "cell_type": "code",
   "execution_count": 27,
   "metadata": {},
   "outputs": [
    {
     "data": {
      "text/plain": [
       "True"
      ]
     },
     "execution_count": 27,
     "metadata": {},
     "output_type": "execute_result"
    }
   ],
   "source": [
    "(legal_age >= 20) and (legal_age <= 40) # parentheses optional"
   ]
  },
  {
   "cell_type": "code",
   "execution_count": 20,
   "metadata": {},
   "outputs": [
    {
     "data": {
      "text/plain": [
       "True"
      ]
     },
     "execution_count": 20,
     "metadata": {},
     "output_type": "execute_result"
    }
   ],
   "source": [
    "trump = \"red\"\n",
    "biden = \"blue\"\n",
    "\n",
    "trump == \"red\" and biden == \"blue\""
   ]
  },
  {
   "cell_type": "code",
   "execution_count": 21,
   "metadata": {},
   "outputs": [
    {
     "data": {
      "text/plain": [
       "False"
      ]
     },
     "execution_count": 21,
     "metadata": {},
     "output_type": "execute_result"
    }
   ],
   "source": [
    "trump == \"blue\" and biden == \"red\""
   ]
  },
  {
   "cell_type": "code",
   "execution_count": 22,
   "metadata": {},
   "outputs": [
    {
     "data": {
      "text/plain": [
       "True"
      ]
     },
     "execution_count": 22,
     "metadata": {},
     "output_type": "execute_result"
    }
   ],
   "source": [
    "trump != \"blue\" and biden != \"red\""
   ]
  },
  {
   "cell_type": "code",
   "execution_count": 23,
   "metadata": {},
   "outputs": [
    {
     "data": {
      "text/plain": [
       "True"
      ]
     },
     "execution_count": 23,
     "metadata": {},
     "output_type": "execute_result"
    }
   ],
   "source": [
    "trump == \"red\" or biden == \"black\""
   ]
  },
  {
   "cell_type": "code",
   "execution_count": 24,
   "metadata": {},
   "outputs": [
    {
     "data": {
      "text/plain": [
       "True"
      ]
     },
     "execution_count": 24,
     "metadata": {},
     "output_type": "execute_result"
    }
   ],
   "source": [
    "trump == \"black\" or biden == \"blue\""
   ]
  },
  {
   "cell_type": "code",
   "execution_count": 25,
   "metadata": {},
   "outputs": [
    {
     "data": {
      "text/plain": [
       "False"
      ]
     },
     "execution_count": 25,
     "metadata": {},
     "output_type": "execute_result"
    }
   ],
   "source": [
    "trump == \"green\" or biden == \"soda\""
   ]
  },
  {
   "cell_type": "markdown",
   "metadata": {},
   "source": [
    "**Using 'in' to check if a value is in a list:**"
   ]
  },
  {
   "cell_type": "code",
   "execution_count": 28,
   "metadata": {},
   "outputs": [
    {
     "data": {
      "text/plain": [
       "False"
      ]
     },
     "execution_count": 28,
     "metadata": {},
     "output_type": "execute_result"
    }
   ],
   "source": [
    "houses = [\"alice_hill\" , \"larkwood\", \"five_oaks\"]\n",
    "\n",
    "\"hollyhock\" in houses"
   ]
  },
  {
   "cell_type": "code",
   "execution_count": 29,
   "metadata": {},
   "outputs": [
    {
     "data": {
      "text/plain": [
       "True"
      ]
     },
     "execution_count": 29,
     "metadata": {},
     "output_type": "execute_result"
    }
   ],
   "source": [
    "\"alice_hill\" in houses"
   ]
  },
  {
   "cell_type": "markdown",
   "metadata": {},
   "source": [
    "**Making sure something is 'not in' a list.  For example: checking to make sure a user is not in a list of banned users**"
   ]
  },
  {
   "cell_type": "code",
   "execution_count": 30,
   "metadata": {},
   "outputs": [
    {
     "data": {
      "text/plain": [
       "True"
      ]
     },
     "execution_count": 30,
     "metadata": {},
     "output_type": "execute_result"
    }
   ],
   "source": [
    "banned_users = [\"bill\", \"mary\", \"ted\"]\n",
    "user = \"jenny\"\n",
    "\n",
    "user not in banned_users"
   ]
  },
  {
   "cell_type": "markdown",
   "metadata": {},
   "source": [
    "**OR, we can loop things for automated responses**"
   ]
  },
  {
   "cell_type": "code",
   "execution_count": 44,
   "metadata": {},
   "outputs": [
    {
     "name": "stdout",
     "output_type": "stream",
     "text": [
      "Sorry, bill, you're banned from responding.\n"
     ]
    }
   ],
   "source": [
    "if user not in banned_users:\n",
    "    print(f\"{user}, you are free to respond.\")\n",
    "else:\n",
    "    print(f\"Sorry, {user}, you're banned from responding.\")\n",
    "\n",
    "user = \"bill\"\n"
   ]
  },
  {
   "cell_type": "markdown",
   "metadata": {},
   "source": [
    "#### Ah, BOOLEANS - fancy term for conditional testing - gives either 'True' or 'False'\n",
    "\n",
    "- Booleans - 'bools', the kids call 'em - keep track of certain conditions\n",
    "\n",
    "- REALLY important in loop and function writing"
   ]
  },
  {
   "cell_type": "code",
   "execution_count": 46,
   "metadata": {},
   "outputs": [],
   "source": [
    "game_active = \"True\"\n",
    "can_edit = \"False\""
   ]
  },
  {
   "cell_type": "markdown",
   "metadata": {},
   "source": [
    "### Exercises\n",
    "\n",
    "**1.) Write a series of conditional tests and print my predictions for the results of each test**"
   ]
  },
  {
   "cell_type": "code",
   "execution_count": 49,
   "metadata": {},
   "outputs": [
    {
     "name": "stdout",
     "output_type": "stream",
     "text": [
      "Is soda == 'coke'?  I predict True.\n",
      "True\n",
      "Is soda == 'pepsi'?  I predict False.\n",
      "False\n"
     ]
    }
   ],
   "source": [
    "soda = \"coke\"\n",
    "print(\"Is soda == 'coke'?  I predict True.\")\n",
    "print(soda == \"coke\")\n",
    "print(\"Is soda == 'pepsi'?  I predict False.\")\n",
    "print(soda == \"pepsi\")"
   ]
  },
  {
   "cell_type": "code",
   "execution_count": 53,
   "metadata": {},
   "outputs": [],
   "source": [
    "# Assertions also check for True / False.  \n",
    "\n",
    "# Assertions testing 'True' don't respond.  ONLY FALSE assertions respond, and they're assertion errors\n",
    "\n",
    "assert soda == \"coke\""
   ]
  },
  {
   "cell_type": "code",
   "execution_count": 58,
   "metadata": {},
   "outputs": [
    {
     "ename": "AssertionError",
     "evalue": "",
     "output_type": "error",
     "traceback": [
      "\u001b[0;31m---------------------------------------------------------------------------\u001b[0m",
      "\u001b[0;31mAssertionError\u001b[0m                            Traceback (most recent call last)",
      "\u001b[0;32m<ipython-input-58-cfc0937d5608>\u001b[0m in \u001b[0;36m<module>\u001b[0;34m\u001b[0m\n\u001b[0;32m----> 1\u001b[0;31m \u001b[0;32massert\u001b[0m \u001b[0msoda\u001b[0m \u001b[0;34m==\u001b[0m \u001b[0;34m\"pepsi\"\u001b[0m\u001b[0;34m\u001b[0m\u001b[0;34m\u001b[0m\u001b[0m\n\u001b[0m",
      "\u001b[0;31mAssertionError\u001b[0m: "
     ]
    }
   ],
   "source": [
    "assert soda == \"pepsi\""
   ]
  },
  {
   "cell_type": "markdown",
   "metadata": {},
   "source": [
    "**2.) More conditional tests**"
   ]
  },
  {
   "cell_type": "code",
   "execution_count": 63,
   "metadata": {},
   "outputs": [
    {
     "name": "stdout",
     "output_type": "stream",
     "text": [
      "Test A:\n",
      "False\n",
      "True\n",
      "Test B:\n",
      "Yup, 38 is the lucky number!\n"
     ]
    }
   ],
   "source": [
    "print(\"Test A:\")\n",
    "\n",
    "greeting = \"Aloha\"\n",
    "\n",
    "print(greeting == \"aloha\")\n",
    "print(greeting.lower() == \"aloha\")\n",
    "\n",
    "print(\"Test B:\")\n",
    "\n",
    "fave_num = 38\n",
    "\n",
    "if fave_num == 38:\n",
    "      print(\"Yup, 38 is the lucky number!\")\n",
    "if fave_num < 38:\n",
    "      print(f\"Sorry, but {fave_num} is not the lucky number.  Try guessing higher.\")\n",
    "if fave_num > 38: \n",
    "      print(f\"{fave_num} is not right.  Try guessing a lower.\")"
   ]
  },
  {
   "cell_type": "markdown",
   "metadata": {},
   "source": [
    "**More if_statement notes:**\n",
    "\n",
    "- Remember, they're basically in the format:\n",
    "\n",
    "        if conditional_test passes:\n",
    "            then do something\n",
    "            \n",
    "- if-else statements test TWO possible outcomes and outline what to do if conditional test passes, and what to do if it does not:\n",
    "\n",
    "        if conditional_test passes:\n",
    "            do this\n",
    "        else (if the conditional_test doesn't pass):\n",
    "            do this instead\n",
    "         \n",
    "- if-elif-else statements test MORE THAN TWO possible outcomes:\n",
    "\n",
    "        if conditional_test passes:\n",
    "            do this\n",
    "        elif conditional_test doesn't pass:\n",
    "            try this\n",
    "        if conditional_test fails at all else:\n",
    "            do this"
   ]
  },
  {
   "cell_type": "code",
   "execution_count": 64,
   "metadata": {},
   "outputs": [
    {
     "name": "stdout",
     "output_type": "stream",
     "text": [
      "You're old enough to vote\n"
     ]
    }
   ],
   "source": [
    "# if statement\n",
    "\n",
    "age = 19\n",
    "\n",
    "if age >= 18:\n",
    "    print(\"You're old enough to vote\")"
   ]
  },
  {
   "cell_type": "code",
   "execution_count": 66,
   "metadata": {},
   "outputs": [
    {
     "name": "stdout",
     "output_type": "stream",
     "text": [
      "Sorry, can't vote yet.  Gotta wait until you turn 18.\n"
     ]
    }
   ],
   "source": [
    "# if-else statement\n",
    "\n",
    "age = 17\n",
    "if age >= 18:\n",
    "    print(\"You're old enough to vote.\")\n",
    "else:\n",
    "    print(\"Sorry, can't vote yet.  Gotta wait until you turn 18.\")"
   ]
  },
  {
   "cell_type": "code",
   "execution_count": 69,
   "metadata": {},
   "outputs": [
    {
     "name": "stdout",
     "output_type": "stream",
     "text": [
      "Admission to this movie is $5.00.\n"
     ]
    }
   ],
   "source": [
    "# if-elif-else statement\n",
    "\n",
    "age = 13\n",
    "\n",
    "if age < 4:\n",
    "    print(\"Admission to this movie is free.\")\n",
    "elif age < 18:\n",
    "    print(\"Admission to this movie is $5.00.\")\n",
    "else:\n",
    "    print(\"Adult Admission for this movie is $9.00\")"
   ]
  },
  {
   "cell_type": "markdown",
   "metadata": {},
   "source": [
    "**REMEMBER: Python reads one line at a time, so as soon as one of the if-then-else statements is satisfied, it executes that line of code and then moves on to the next block entirely.  It doesn't just stick around.**"
   ]
  },
  {
   "cell_type": "code",
   "execution_count": null,
   "metadata": {},
   "outputs": [],
   "source": []
  }
 ],
 "metadata": {
  "kernelspec": {
   "display_name": "Python 3",
   "language": "python",
   "name": "python3"
  },
  "language_info": {
   "codemirror_mode": {
    "name": "ipython",
    "version": 3
   },
   "file_extension": ".py",
   "mimetype": "text/x-python",
   "name": "python",
   "nbconvert_exporter": "python",
   "pygments_lexer": "ipython3",
   "version": "3.7.4"
  }
 },
 "nbformat": 4,
 "nbformat_minor": 2
}
