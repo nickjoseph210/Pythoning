{
 "cells": [
  {
   "cell_type": "markdown",
   "metadata": {},
   "source": [
    "### If Statements\n",
    "\n",
    "- conditionals that dictate the direction of the program **if** certain criteria are met"
   ]
  },
  {
   "cell_type": "markdown",
   "metadata": {},
   "source": [
    "**Starting example: dogs**"
   ]
  },
  {
   "cell_type": "code",
   "execution_count": 1,
   "metadata": {},
   "outputs": [
    {
     "name": "stdout",
     "output_type": "stream",
     "text": [
      "SNUFF\n",
      "Frank\n",
      "Rocky\n",
      "Steve\n"
     ]
    }
   ],
   "source": [
    "dogs = [\"snuff\", \"frank\", \"rocky\", \"steve\"]\n",
    "\n",
    "for dog in dogs: \n",
    "    if dog == \"snuff\":\n",
    "        print(dog.upper())\n",
    "    else:\n",
    "        print(dog.title())\n"
   ]
  },
  {
   "cell_type": "markdown",
   "metadata": {},
   "source": [
    "**The conditional test - immensely valuable in function writing**\n",
    "\n",
    "- Trues and Falses\n",
    "\n",
    "- in Pandas DataFrames, these are masks\n",
    "\n",
    "- '==' is the check; it *asks* 'Is this left side equal to this right side?'"
   ]
  },
  {
   "cell_type": "code",
   "execution_count": 2,
   "metadata": {},
   "outputs": [
    {
     "data": {
      "text/plain": [
       "True"
      ]
     },
     "execution_count": 2,
     "metadata": {},
     "output_type": "execute_result"
    }
   ],
   "source": [
    "# set conditional by saying 'dog is snuff'\n",
    "dog = \"snuff\"\n",
    "\n",
    "# check to see if the dog value is indeed 'snuff'\n",
    "\n",
    "dog == \"snuff\"\n"
   ]
  },
  {
   "cell_type": "code",
   "execution_count": 3,
   "metadata": {},
   "outputs": [
    {
     "data": {
      "text/plain": [
       "False"
      ]
     },
     "execution_count": 3,
     "metadata": {},
     "output_type": "execute_result"
    }
   ],
   "source": [
    "# check\n",
    "\n",
    "dog == \"rocky\""
   ]
  },
  {
   "cell_type": "code",
   "execution_count": 4,
   "metadata": {},
   "outputs": [],
   "source": [
    "# ^^Checks out."
   ]
  },
  {
   "cell_type": "code",
   "execution_count": 5,
   "metadata": {},
   "outputs": [
    {
     "data": {
      "text/plain": [
       "False"
      ]
     },
     "execution_count": 5,
     "metadata": {},
     "output_type": "execute_result"
    }
   ],
   "source": [
    "# Ignoring case - since not all letters are equal, lowercase the '==' check:\n",
    "\n",
    "car = \"BMW\"\n",
    "car == \"bmw\""
   ]
  },
  {
   "cell_type": "code",
   "execution_count": 6,
   "metadata": {},
   "outputs": [
    {
     "data": {
      "text/plain": [
       "True"
      ]
     },
     "execution_count": 6,
     "metadata": {},
     "output_type": "execute_result"
    }
   ],
   "source": [
    "car.lower() == \"bmw\""
   ]
  },
  {
   "cell_type": "code",
   "execution_count": 7,
   "metadata": {},
   "outputs": [
    {
     "name": "stdout",
     "output_type": "stream",
     "text": [
      "BMW\n"
     ]
    }
   ],
   "source": [
    "print(car)"
   ]
  },
  {
   "cell_type": "markdown",
   "metadata": {},
   "source": [
    "**'!=' is an INequality check.  It says 'Not Equal To'**"
   ]
  },
  {
   "cell_type": "code",
   "execution_count": 8,
   "metadata": {},
   "outputs": [
    {
     "data": {
      "text/plain": [
       "True"
      ]
     },
     "execution_count": 8,
     "metadata": {},
     "output_type": "execute_result"
    }
   ],
   "source": [
    "buddy = \"Rocky\"\n",
    "buddy != \"bill\""
   ]
  },
  {
   "cell_type": "code",
   "execution_count": 9,
   "metadata": {},
   "outputs": [
    {
     "data": {
      "text/plain": [
       "False"
      ]
     },
     "execution_count": 9,
     "metadata": {},
     "output_type": "execute_result"
    }
   ],
   "source": [
    "buddy == \"rocky\""
   ]
  },
  {
   "cell_type": "code",
   "execution_count": 10,
   "metadata": {},
   "outputs": [
    {
     "data": {
      "text/plain": [
       "True"
      ]
     },
     "execution_count": 10,
     "metadata": {},
     "output_type": "execute_result"
    }
   ],
   "source": [
    "buddy.lower() == \"rocky\""
   ]
  },
  {
   "cell_type": "code",
   "execution_count": 11,
   "metadata": {},
   "outputs": [
    {
     "data": {
      "text/plain": [
       "False"
      ]
     },
     "execution_count": 11,
     "metadata": {},
     "output_type": "execute_result"
    }
   ],
   "source": [
    "legal_age = 21\n",
    "legal_age == 20"
   ]
  },
  {
   "cell_type": "code",
   "execution_count": 12,
   "metadata": {},
   "outputs": [
    {
     "data": {
      "text/plain": [
       "True"
      ]
     },
     "execution_count": 12,
     "metadata": {},
     "output_type": "execute_result"
    }
   ],
   "source": [
    "legal_age != 20"
   ]
  },
  {
   "cell_type": "code",
   "execution_count": 13,
   "metadata": {},
   "outputs": [
    {
     "data": {
      "text/plain": [
       "True"
      ]
     },
     "execution_count": 13,
     "metadata": {},
     "output_type": "execute_result"
    }
   ],
   "source": [
    "legal_age >= 20"
   ]
  },
  {
   "cell_type": "code",
   "execution_count": 14,
   "metadata": {},
   "outputs": [
    {
     "data": {
      "text/plain": [
       "False"
      ]
     },
     "execution_count": 14,
     "metadata": {},
     "output_type": "execute_result"
    }
   ],
   "source": [
    "legal_age <= 20"
   ]
  },
  {
   "cell_type": "code",
   "execution_count": 15,
   "metadata": {},
   "outputs": [
    {
     "data": {
      "text/plain": [
       "True"
      ]
     },
     "execution_count": 15,
     "metadata": {},
     "output_type": "execute_result"
    }
   ],
   "source": [
    "(legal_age >= 20) and (legal_age <= 40) # parentheses optional"
   ]
  },
  {
   "cell_type": "code",
   "execution_count": 16,
   "metadata": {},
   "outputs": [
    {
     "data": {
      "text/plain": [
       "True"
      ]
     },
     "execution_count": 16,
     "metadata": {},
     "output_type": "execute_result"
    }
   ],
   "source": [
    "trump = \"red\"\n",
    "biden = \"blue\"\n",
    "\n",
    "trump == \"red\" and biden == \"blue\""
   ]
  },
  {
   "cell_type": "code",
   "execution_count": 17,
   "metadata": {},
   "outputs": [
    {
     "data": {
      "text/plain": [
       "False"
      ]
     },
     "execution_count": 17,
     "metadata": {},
     "output_type": "execute_result"
    }
   ],
   "source": [
    "trump == \"blue\" and biden == \"red\""
   ]
  },
  {
   "cell_type": "code",
   "execution_count": 18,
   "metadata": {},
   "outputs": [
    {
     "data": {
      "text/plain": [
       "True"
      ]
     },
     "execution_count": 18,
     "metadata": {},
     "output_type": "execute_result"
    }
   ],
   "source": [
    "trump != \"blue\" and biden != \"red\""
   ]
  },
  {
   "cell_type": "code",
   "execution_count": 19,
   "metadata": {},
   "outputs": [
    {
     "data": {
      "text/plain": [
       "True"
      ]
     },
     "execution_count": 19,
     "metadata": {},
     "output_type": "execute_result"
    }
   ],
   "source": [
    "trump == \"red\" or biden == \"black\""
   ]
  },
  {
   "cell_type": "code",
   "execution_count": 20,
   "metadata": {},
   "outputs": [
    {
     "data": {
      "text/plain": [
       "True"
      ]
     },
     "execution_count": 20,
     "metadata": {},
     "output_type": "execute_result"
    }
   ],
   "source": [
    "trump == \"black\" or biden == \"blue\""
   ]
  },
  {
   "cell_type": "code",
   "execution_count": 21,
   "metadata": {},
   "outputs": [
    {
     "data": {
      "text/plain": [
       "False"
      ]
     },
     "execution_count": 21,
     "metadata": {},
     "output_type": "execute_result"
    }
   ],
   "source": [
    "trump == \"green\" or biden == \"soda\""
   ]
  },
  {
   "cell_type": "markdown",
   "metadata": {},
   "source": [
    "**Using 'in' to check if a value is in a list:**"
   ]
  },
  {
   "cell_type": "code",
   "execution_count": 22,
   "metadata": {},
   "outputs": [
    {
     "data": {
      "text/plain": [
       "False"
      ]
     },
     "execution_count": 22,
     "metadata": {},
     "output_type": "execute_result"
    }
   ],
   "source": [
    "houses = [\"alice_hill\" , \"larkwood\", \"five_oaks\"]\n",
    "\n",
    "\"hollyhock\" in houses"
   ]
  },
  {
   "cell_type": "code",
   "execution_count": 23,
   "metadata": {},
   "outputs": [
    {
     "data": {
      "text/plain": [
       "True"
      ]
     },
     "execution_count": 23,
     "metadata": {},
     "output_type": "execute_result"
    }
   ],
   "source": [
    "\"alice_hill\" in houses"
   ]
  },
  {
   "cell_type": "markdown",
   "metadata": {},
   "source": [
    "**Making sure something is 'not in' a list.  For example: checking to make sure a user is not in a list of banned users**"
   ]
  },
  {
   "cell_type": "code",
   "execution_count": 24,
   "metadata": {},
   "outputs": [
    {
     "data": {
      "text/plain": [
       "True"
      ]
     },
     "execution_count": 24,
     "metadata": {},
     "output_type": "execute_result"
    }
   ],
   "source": [
    "banned_users = [\"bill\", \"mary\", \"ted\"]\n",
    "user = \"jenny\"\n",
    "\n",
    "user not in banned_users"
   ]
  },
  {
   "cell_type": "markdown",
   "metadata": {},
   "source": [
    "**OR, we can loop things for automated responses**"
   ]
  },
  {
   "cell_type": "code",
   "execution_count": 25,
   "metadata": {},
   "outputs": [
    {
     "name": "stdout",
     "output_type": "stream",
     "text": [
      "jenny, you are free to respond.\n"
     ]
    }
   ],
   "source": [
    "if user not in banned_users:\n",
    "    print(f\"{user}, you are free to respond.\")\n",
    "else:\n",
    "    print(f\"Sorry, {user}, you're banned from responding.\")\n",
    "\n",
    "user = \"bill\"\n"
   ]
  },
  {
   "cell_type": "markdown",
   "metadata": {},
   "source": [
    "#### Ah, BOOLEANS - fancy term for conditional testing - gives either 'True' or 'False'\n",
    "\n",
    "- Booleans - 'bools', the kids call 'em - keep track of certain conditions\n",
    "\n",
    "- REALLY important in loop and function writing"
   ]
  },
  {
   "cell_type": "code",
   "execution_count": 26,
   "metadata": {},
   "outputs": [],
   "source": [
    "game_active = \"True\"\n",
    "can_edit = \"False\""
   ]
  },
  {
   "cell_type": "markdown",
   "metadata": {},
   "source": [
    "### Exercises\n",
    "\n",
    "**1.) Write a series of conditional tests and print my predictions for the results of each test**"
   ]
  },
  {
   "cell_type": "code",
   "execution_count": 27,
   "metadata": {},
   "outputs": [
    {
     "name": "stdout",
     "output_type": "stream",
     "text": [
      "Is soda == 'coke'?  I predict True.\n",
      "True\n",
      "Is soda == 'pepsi'?  I predict False.\n",
      "False\n"
     ]
    }
   ],
   "source": [
    "soda = \"coke\"\n",
    "print(\"Is soda == 'coke'?  I predict True.\")\n",
    "print(soda == \"coke\")\n",
    "print(\"Is soda == 'pepsi'?  I predict False.\")\n",
    "print(soda == \"pepsi\")"
   ]
  },
  {
   "cell_type": "code",
   "execution_count": 28,
   "metadata": {},
   "outputs": [],
   "source": [
    "# Assertions also check for True / False.  \n",
    "\n",
    "# Assertions testing 'True' don't respond.  ONLY FALSE assertions respond, and they're assertion errors\n",
    "\n",
    "assert soda == \"coke\""
   ]
  },
  {
   "cell_type": "code",
   "execution_count": 29,
   "metadata": {},
   "outputs": [
    {
     "ename": "AssertionError",
     "evalue": "",
     "output_type": "error",
     "traceback": [
      "\u001b[0;31m---------------------------------------------------------------------------\u001b[0m",
      "\u001b[0;31mAssertionError\u001b[0m                            Traceback (most recent call last)",
      "\u001b[0;32m<ipython-input-29-cfc0937d5608>\u001b[0m in \u001b[0;36m<module>\u001b[0;34m\u001b[0m\n\u001b[0;32m----> 1\u001b[0;31m \u001b[0;32massert\u001b[0m \u001b[0msoda\u001b[0m \u001b[0;34m==\u001b[0m \u001b[0;34m\"pepsi\"\u001b[0m\u001b[0;34m\u001b[0m\u001b[0;34m\u001b[0m\u001b[0m\n\u001b[0m",
      "\u001b[0;31mAssertionError\u001b[0m: "
     ]
    }
   ],
   "source": [
    "assert soda == \"pepsi\""
   ]
  },
  {
   "cell_type": "markdown",
   "metadata": {},
   "source": [
    "**2.) More conditional tests**"
   ]
  },
  {
   "cell_type": "code",
   "execution_count": 30,
   "metadata": {},
   "outputs": [
    {
     "name": "stdout",
     "output_type": "stream",
     "text": [
      "Test A:\n",
      "False\n",
      "True\n",
      "Test B:\n",
      "Yup, 38 is the lucky number!\n"
     ]
    }
   ],
   "source": [
    "print(\"Test A:\")\n",
    "\n",
    "greeting = \"Aloha\"\n",
    "\n",
    "print(greeting == \"aloha\")\n",
    "print(greeting.lower() == \"aloha\")\n",
    "\n",
    "print(\"Test B:\")\n",
    "\n",
    "fave_num = 38\n",
    "\n",
    "if fave_num == 38:\n",
    "      print(\"Yup, 38 is the lucky number!\")\n",
    "if fave_num < 38:\n",
    "      print(f\"Sorry, but {fave_num} is not the lucky number.  Try guessing higher.\")\n",
    "if fave_num > 38: \n",
    "      print(f\"{fave_num} is not right.  Try guessing a lower.\")"
   ]
  },
  {
   "cell_type": "markdown",
   "metadata": {},
   "source": [
    "**More if_statement notes:**\n",
    "\n",
    "- Remember, they're basically in the format:\n",
    "\n",
    "        if conditional_test passes:\n",
    "            then do something\n",
    "            \n",
    "- if-else statements test TWO possible outcomes and outline what to do if conditional test passes, and what to do if it does not\n",
    "\n",
    "\n",
    "- if-elif-else tests / dictates what to do if and when more than two options are presented\n",
    "\n",
    "            if conditional_test passes:\n",
    "                 do this\n",
    "\n",
    "            elif conditional_test doesn't pass:\n",
    "                 try this\n",
    "                 \n",
    "            if conditional_test fails at all **else**:\n",
    "                 do this\n",
    "                 \n",
    "- if I want more specific requirements, I can use as many elif statements as I like - these blocks don't need to end in 'else'"
   ]
  },
  {
   "cell_type": "code",
   "execution_count": 37,
   "metadata": {},
   "outputs": [
    {
     "name": "stdout",
     "output_type": "stream",
     "text": [
      "You're old enough to vote\n"
     ]
    }
   ],
   "source": [
    "# if statement\n",
    "\n",
    "age = 19\n",
    "\n",
    "if age >= 18:\n",
    "    print(\"You're old enough to vote\")"
   ]
  },
  {
   "cell_type": "code",
   "execution_count": 38,
   "metadata": {},
   "outputs": [
    {
     "name": "stdout",
     "output_type": "stream",
     "text": [
      "Sorry, can't vote yet.  Gotta wait until you turn 18.\n"
     ]
    }
   ],
   "source": [
    "# if-else statement\n",
    "\n",
    "age = 17\n",
    "if age >= 18:\n",
    "    print(\"You're old enough to vote.\")\n",
    "else:\n",
    "    print(\"Sorry, can't vote yet.  Gotta wait until you turn 18.\")"
   ]
  },
  {
   "cell_type": "code",
   "execution_count": 39,
   "metadata": {},
   "outputs": [
    {
     "name": "stdout",
     "output_type": "stream",
     "text": [
      "Admission to this movie is $5.00.\n"
     ]
    }
   ],
   "source": [
    "# if-elif-else statement\n",
    "\n",
    "age = 13\n",
    "\n",
    "if age < 4:\n",
    "    print(\"Admission to this movie is free.\")\n",
    "elif age < 18:\n",
    "    print(\"Admission to this movie is $5.00.\")\n",
    "else:\n",
    "    print(\"Adult Admission for this movie is $9.00\")"
   ]
  },
  {
   "cell_type": "markdown",
   "metadata": {},
   "source": [
    "**REMEMBER: Python reads one line at a time, so as soon as *the first* if-then-else statements is satisfied, it executes that line of code and then moves on to the next block entirely.  It doesn't just stick around.  If I need to check multiple TRUE conditions and print them out as I go along (say, printing specific pizza toppings), 'else' and 'elif' are not needed - I can just use 'if' statements:**"
   ]
  },
  {
   "cell_type": "code",
   "execution_count": 40,
   "metadata": {},
   "outputs": [
    {
     "name": "stdout",
     "output_type": "stream",
     "text": [
      "Adding mushrooms\n",
      "Adding extra cheese\n"
     ]
    }
   ],
   "source": [
    "requested_toppings = [\"mushrooms\", \"extra cheese\"]\n",
    "\n",
    "if \"mushrooms\" in requested_toppings:\n",
    "    print(\"Adding mushrooms\")\n",
    "if \"pepperoni\" in requested_toppings:\n",
    "    print(\"Adding pepperoni\")\n",
    "if \"extra cheese\" in requested_toppings:\n",
    "    print(\"Adding extra cheese\")"
   ]
  },
  {
   "cell_type": "markdown",
   "metadata": {},
   "source": [
    "### More Exercises\n",
    "\n",
    "**3.) Create a variable called alien_color and asign it a value of \"green\", \"yellow\", or \"red.\"**\n",
    "\n",
    "- Write an 'if statement' that tests whether the alien's color is green.  If so, print a message telling the player they just earned 5 points.\n",
    "\n",
    "- Write one version that passes the test, and one that fails"
   ]
  },
  {
   "cell_type": "code",
   "execution_count": 41,
   "metadata": {},
   "outputs": [],
   "source": [
    "alien_color = [\"green\", \"yellow\", \"red\"]"
   ]
  },
  {
   "cell_type": "code",
   "execution_count": 42,
   "metadata": {},
   "outputs": [
    {
     "name": "stdout",
     "output_type": "stream",
     "text": [
      "You just hit a green alien and scored 5 points.  Nice shot!\n"
     ]
    }
   ],
   "source": [
    "# points assigned to color\n",
    "\n",
    "# test passes\n",
    "\n",
    "if \"green\" in alien_color:\n",
    "    print(\"You just hit a green alien and scored 5 points.  Nice shot!\")"
   ]
  },
  {
   "cell_type": "code",
   "execution_count": 43,
   "metadata": {},
   "outputs": [],
   "source": [
    "# test fails (don't expect an output)\n",
    "\n",
    "if \"pink\" in alien_color:\n",
    "    print(\"WTF?  A pink alien??? How many points do you want?\")"
   ]
  },
  {
   "cell_type": "markdown",
   "metadata": {},
   "source": [
    "**4.) Write one if block and one else block regarding points and colors of aliens shot down**"
   ]
  },
  {
   "cell_type": "code",
   "execution_count": 44,
   "metadata": {},
   "outputs": [
    {
     "name": "stdout",
     "output_type": "stream",
     "text": [
      "Awesome!  You just shot a green alien - 5 points!\n"
     ]
    }
   ],
   "source": [
    "alien_shot = \"green\"\n",
    "\n",
    "if alien_shot == \"green\":\n",
    "    print(\"Awesome!  You just shot a green alien - 5 points!\")\n",
    "else:\n",
    "    print(\"Wait: what color was that one?  Who cares!  Give yourself 10 points!\")"
   ]
  },
  {
   "cell_type": "markdown",
   "metadata": {},
   "source": [
    "**5.) Turn #4 into if-elif-else chain**"
   ]
  },
  {
   "cell_type": "code",
   "execution_count": 45,
   "metadata": {},
   "outputs": [
    {
     "name": "stdout",
     "output_type": "stream",
     "text": [
      "Dude!  Great job - yellow aliens are 10 points!\n"
     ]
    }
   ],
   "source": [
    "alien_shot = \"yellow\"\n",
    "\n",
    "if alien_shot == \"green\":\n",
    "    print(\"Wow!  You get 5 points for shooting a green alien!\")\n",
    "elif alien_shot == \"yellow\":\n",
    "    print(\"Dude!  Great job - yellow aliens are 10 points!\")\n",
    "else:\n",
    "    print(\"Wait: what color did you shoot again?\")"
   ]
  },
  {
   "cell_type": "markdown",
   "metadata": {},
   "source": [
    "**6.) Write an if-elif-else chain about the stages of a person's life**"
   ]
  },
  {
   "cell_type": "code",
   "execution_count": 51,
   "metadata": {},
   "outputs": [
    {
     "name": "stdout",
     "output_type": "stream",
     "text": [
      "What are you doing playing this game??  You're an A-D-U-L-T!\n"
     ]
    }
   ],
   "source": [
    "age = 65\n",
    "\n",
    "if age < 2:\n",
    "    print(\"You're still just a wee baby.\")\n",
    "elif age <= 4:\n",
    "    print(\"What's goin' on, toddler?  YOUSOCYOOOOT!\")\n",
    "elif age <= 13:\n",
    "    print(\"'Sup, Kid?\")\n",
    "elif age <= 20:\n",
    "    print(\"Smells like there's a teen in the house.\")\n",
    "elif age <= 65:\n",
    "    print(\"What are you doing playing this game??  You're an A-D-U-L-T!\")\n",
    "elif age > 66:\n",
    "    print(\"Hope you lived your life right, because if you haven't, right now you're paying for it.\")"
   ]
  },
  {
   "cell_type": "markdown",
   "metadata": {},
   "source": [
    "**7.) Make a list of my favorite vegetables, and write if statements printing out whether or not that veggie made the list**"
   ]
  },
  {
   "cell_type": "code",
   "execution_count": 55,
   "metadata": {},
   "outputs": [
    {
     "name": "stdout",
     "output_type": "stream",
     "text": [
      "Broccoli's on the list!\n",
      "Carrots are on the list!\n",
      "Yup!  Lettuce made the list!\n",
      "You bet celery's on the list!\n",
      "Parsnips?  Yup!  On it.\n",
      "Potatoes are in!\n",
      "OF COURSE onions are on this list!  Onions are the best of them all!\n"
     ]
    }
   ],
   "source": [
    "fave_veggies = [\"broccoli\", \"carrots\", \"lettuce\", \"celery\", \"parsnips\", \"potatoes\", \"onions\"]\n",
    "\n",
    "if \"broccoli\" in fave_veggies:\n",
    "    print(\"Broccoli's on the list!\")\n",
    "if \"carrots\" in fave_veggies:\n",
    "    print(\"Carrots are on the list!\")\n",
    "if \"lettuce\" in fave_veggies:\n",
    "    print(\"Yup!  Lettuce made the list!\")\n",
    "if \"celery\" in fave_veggies:\n",
    "    print(\"You bet celery's on the list!\")\n",
    "if \"parsnips\" in fave_veggies:\n",
    "    print(\"Parsnips?  Yup!  On it.\")\n",
    "if \"potatoes\" in fave_veggies:\n",
    "    print(\"Potatoes are in!\")\n",
    "if \"onions\"in fave_veggies:\n",
    "    print(\"OF COURSE onions are on this list!  Onions are the best of them all!\")\n"
   ]
  },
  {
   "cell_type": "code",
   "execution_count": null,
   "metadata": {},
   "outputs": [],
   "source": []
  }
 ],
 "metadata": {
  "kernelspec": {
   "display_name": "Python 3",
   "language": "python",
   "name": "python3"
  },
  "language_info": {
   "codemirror_mode": {
    "name": "ipython",
    "version": 3
   },
   "file_extension": ".py",
   "mimetype": "text/x-python",
   "name": "python",
   "nbconvert_exporter": "python",
   "pygments_lexer": "ipython3",
   "version": "3.7.4"
  }
 },
 "nbformat": 4,
 "nbformat_minor": 2
}
