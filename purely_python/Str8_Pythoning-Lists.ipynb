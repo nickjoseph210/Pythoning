{
 "cells": [
  {
   "cell_type": "markdown",
   "metadata": {},
   "source": [
    "### Lists\n",
    "\n",
    "- collections of items in a particular order"
   ]
  },
  {
   "cell_type": "code",
   "execution_count": 12,
   "metadata": {},
   "outputs": [
    {
     "name": "stdout",
     "output_type": "stream",
     "text": [
      "['salt', 'pepper', 'garlic powder', 'paprika']\n",
      "salt\n",
      "['salt', 'pepper']\n",
      "['pepper', 'garlic powder', 'paprika']\n",
      "['salt', 'pepper']\n",
      "Pepper\n",
      "PAPRIKA\n"
     ]
    }
   ],
   "source": [
    "ingredients = [\"salt\", \"pepper\", \"garlic powder\", \"paprika\"]\n",
    "\n",
    "print(ingredients)\n",
    "\n",
    "print(ingredients[0])\n",
    "\n",
    "print(ingredients[0:2])\n",
    "\n",
    "print(ingredients[1:])\n",
    "\n",
    "print(ingredients[:2])\n",
    "\n",
    "print(ingredients[1].title())\n",
    "\n",
    "print(ingredients[-1].upper())"
   ]
  },
  {
   "cell_type": "code",
   "execution_count": 13,
   "metadata": {},
   "outputs": [
    {
     "name": "stdout",
     "output_type": "stream",
     "text": [
      "My favorite ingredients are on this list, but on steak, I only add salt.\n"
     ]
    }
   ],
   "source": [
    "print(f\"My favorite ingredients are on this list, but on steak, I only add {ingredients[0]}.\")"
   ]
  },
  {
   "cell_type": "markdown",
   "metadata": {},
   "source": [
    "### Exercises"
   ]
  },
  {
   "cell_type": "markdown",
   "metadata": {},
   "source": [
    "#### 1.) Store a list of friends names in a variable, then print them by index"
   ]
  },
  {
   "cell_type": "code",
   "execution_count": 14,
   "metadata": {},
   "outputs": [
    {
     "name": "stdout",
     "output_type": "stream",
     "text": [
      "Scott\n",
      "In that list of friends, only Dave is a lawyer.\n"
     ]
    }
   ],
   "source": [
    "friends = [\"matt\", \"ben\", \"scott\", \"mark\", \"dave\"]\n",
    "\n",
    "print(friends[2].title())\n",
    "\n",
    "print(f\"In that list of friends, only {friends[4].title()} is a lawyer.\")"
   ]
  },
  {
   "cell_type": "markdown",
   "metadata": {},
   "source": [
    "#### 2.) Using 'friends,' write a message to each friend \n",
    "(NB: I know this could be done more easily with a 'for' loop, but sticking to the exercises here)"
   ]
  },
  {
   "cell_type": "code",
   "execution_count": 15,
   "metadata": {},
   "outputs": [
    {
     "name": "stdout",
     "output_type": "stream",
     "text": [
      "Matt: sorry about your deck.\n",
      "Ben: Happy Belated Birthday.\n",
      "Scott: thanks for making the time to see April.\n",
      "Mark: hope Hank's doing well.  Always loved the kid.\n",
      "Dave: thanks for saying 'Hi' to me and April in Denver.\n"
     ]
    }
   ],
   "source": [
    "print(f\"{friends[0].title()}: sorry about your deck.\")\n",
    "print(f\"{friends[1].title()}: Happy Belated Birthday.\")\n",
    "print(f\"{friends[2].title()}: thanks for making the time to see April.\")\n",
    "print(f\"{friends[3].title()}: hope Hank's doing well.  Always loved the kid.\")\n",
    "print(f\"{friends[-1].title()}: thanks for saying 'Hi' to me and April in Denver.\")"
   ]
  },
  {
   "cell_type": "markdown",
   "metadata": {},
   "source": [
    "#### vv More list notes - on appending, replacing, inserting, and removing vv\n",
    "\n",
    "**Adding:**"
   ]
  },
  {
   "cell_type": "code",
   "execution_count": 16,
   "metadata": {},
   "outputs": [
    {
     "name": "stdout",
     "output_type": "stream",
     "text": [
      "['hbo', 'cbs', 'abc', 'fox']\n"
     ]
    }
   ],
   "source": [
    "channels = [\"nbc\", \"cbs\", \"abc\", \"fox\"]\n",
    "\n",
    "channels[0] = \"hbo\" # replaces 'nbc' with 'hbo' at front of channels list\n",
    "\n",
    "print(channels)"
   ]
  },
  {
   "cell_type": "code",
   "execution_count": 17,
   "metadata": {},
   "outputs": [
    {
     "name": "stdout",
     "output_type": "stream",
     "text": [
      "['hbo', 'cbs', 'abc', 'fox', 'showtime']\n"
     ]
    }
   ],
   "source": [
    "channels.append(\"showtime\") # adds 'showtime' to the end of the channels list\n",
    "\n",
    "print(channels)"
   ]
  },
  {
   "cell_type": "markdown",
   "metadata": {},
   "source": [
    "**vv Because what users do will be stored in a list as they do them, it's common to do a placeholder and append as you go along.vv**"
   ]
  },
  {
   "cell_type": "code",
   "execution_count": 18,
   "metadata": {},
   "outputs": [
    {
     "name": "stdout",
     "output_type": "stream",
     "text": [
      "['Lose Yourself', 'Slim Shady', 'Without Me']\n"
     ]
    }
   ],
   "source": [
    "user_song_list = []\n",
    "\n",
    "user_song_list.append(\"Lose Yourself\")\n",
    "user_song_list.append(\"Slim Shady\")\n",
    "user_song_list.append(\"Without Me\")\n",
    "\n",
    "print(user_song_list)"
   ]
  },
  {
   "cell_type": "markdown",
   "metadata": {},
   "source": [
    "**Inserting:**"
   ]
  },
  {
   "cell_type": "code",
   "execution_count": 19,
   "metadata": {},
   "outputs": [
    {
     "name": "stdout",
     "output_type": "stream",
     "text": [
      "['Lose Yourself', 'Rap God', 'Slim Shady', 'Without Me']\n"
     ]
    }
   ],
   "source": [
    "user_song_list.insert(1, \"Rap God\") # inserts 'Rap God' into index number 1\n",
    "\n",
    "print(user_song_list)"
   ]
  },
  {
   "cell_type": "markdown",
   "metadata": {},
   "source": [
    "**Removing:**\n",
    "    \n",
    "- 'del' = STATEMENT to delete if you know the index position; PERMANENT deletion\n",
    "\n",
    "- 'pop' = METHOD that \"pops\" the item in parentheses off the list (if empty, the last item); NON-PERMANENT deletion (you can access it later)\n",
    "\n",
    "- 'remove' = METHOD that gets rid of the values you know are in the list but aren't sure which index they inhabit"
   ]
  },
  {
   "cell_type": "code",
   "execution_count": 20,
   "metadata": {},
   "outputs": [
    {
     "name": "stdout",
     "output_type": "stream",
     "text": [
      "['jerry', 'elaine', 'kramer', 'george', 'newman', 'puddy', 'the costanzas']\n"
     ]
    }
   ],
   "source": [
    "cast = [\"jerry\", \"elaine\", \"kramer\", \"george\", \"newman\", \"puddy\", \"the costanzas\"]\n",
    "\n",
    "print(cast)"
   ]
  },
  {
   "cell_type": "code",
   "execution_count": 21,
   "metadata": {},
   "outputs": [
    {
     "name": "stdout",
     "output_type": "stream",
     "text": [
      "['jerry', 'elaine', 'kramer', 'george', 'newman', 'puddy']\n"
     ]
    }
   ],
   "source": [
    "del cast[6]\n",
    "\n",
    "print(cast)"
   ]
  },
  {
   "cell_type": "code",
   "execution_count": 22,
   "metadata": {},
   "outputs": [
    {
     "name": "stdout",
     "output_type": "stream",
     "text": [
      "['jerry', 'elaine', 'kramer', 'george', 'newman']\n",
      "puddy\n"
     ]
    }
   ],
   "source": [
    "popped_cast = cast.pop() # pop the last item in 'cast'\n",
    "\n",
    "print(cast)\n",
    "\n",
    "print(popped_cast) # show me the value of what got popped"
   ]
  },
  {
   "cell_type": "code",
   "execution_count": 23,
   "metadata": {},
   "outputs": [
    {
     "name": "stdout",
     "output_type": "stream",
     "text": [
      "['jerry', 'elaine', 'kramer', 'newman']\n",
      "george\n"
     ]
    }
   ],
   "source": [
    "popped_cast_2 = cast.pop(3)\n",
    "\n",
    "print(cast)\n",
    "\n",
    "print(popped_cast_2)"
   ]
  },
  {
   "cell_type": "code",
   "execution_count": 24,
   "metadata": {},
   "outputs": [
    {
     "name": "stdout",
     "output_type": "stream",
     "text": [
      "So first we deleted The Costanzas, then we popped Puddy, and then we dropped George.\n"
     ]
    }
   ],
   "source": [
    "# Retyping original list b/c mods changed it\n",
    "\n",
    "cast = [\"jerry\", \"elaine\", \"kramer\", \"george\", \"newman\", \"puddy\", \"the costanzas\"]\n",
    "\n",
    "print(f\"So first we deleted {cast[6].title()}, then we popped {cast[5].title()}, and then we dropped {cast[3].title()}.\")"
   ]
  },
  {
   "cell_type": "code",
   "execution_count": 25,
   "metadata": {},
   "outputs": [
    {
     "name": "stdout",
     "output_type": "stream",
     "text": [
      "['jerry', 'elaine', 'kramer', 'george', 'newman', 'puddy', 'the costanzas']\n"
     ]
    }
   ],
   "source": [
    "print(cast)"
   ]
  },
  {
   "cell_type": "code",
   "execution_count": 26,
   "metadata": {},
   "outputs": [
    {
     "name": "stdout",
     "output_type": "stream",
     "text": [
      "['jerry', 'elaine', 'george', 'newman', 'puddy', 'the costanzas']\n"
     ]
    }
   ],
   "source": [
    "new_cast = cast.remove(\"kramer\")\n",
    "\n",
    "print(cast)"
   ]
  },
  {
   "cell_type": "code",
   "execution_count": 27,
   "metadata": {},
   "outputs": [
    {
     "name": "stdout",
     "output_type": "stream",
     "text": [
      "['jerry', 'george', 'newman', 'puddy', 'the costanzas']\n",
      "I removed Elaine because eventually, Newman achieves world domination.\n"
     ]
    }
   ],
   "source": [
    "removed_cast = \"elaine\"\n",
    "\n",
    "cast.remove(removed_cast)\n",
    "\n",
    "print(cast)\n",
    "\n",
    "print(f\"I removed {removed_cast.title()} because eventually, Newman achieves world domination.\")"
   ]
  },
  {
   "cell_type": "markdown",
   "metadata": {},
   "source": [
    "### MORE Exercises\n",
    "\n",
    "#### 3.) Make a list of invites to your dinner party.  Then, print a message inviting each of them"
   ]
  },
  {
   "cell_type": "code",
   "execution_count": 59,
   "metadata": {},
   "outputs": [
    {
     "name": "stdout",
     "output_type": "stream",
     "text": [
      "Mr. Lincoln, please join me for dinner Saturday.\n",
      "Mr. Roosevelt, I'd love to hear about your toughness on Saturday evening.\n",
      "Jesus... can I call you 'Jesus,' or do you go by 'Lord and Savior?'\n",
      "Oss, Master Rickson!  Come to my favala Saturday...\n",
      "Man, Elon, it'd be great if you could meet us Saturday and ride your truck around.\n"
     ]
    }
   ],
   "source": [
    "guests = [\"lincoln\", \"roosevelt\", \"jesus\", \"rickson\", \"elon\"]\n",
    "\n",
    "print(f\"Mr. {guests[0].title()}, please join me for dinner Saturday.\")\n",
    "print(f\"Mr. {guests[1].title()}, I'd love to hear about your toughness on Saturday evening.\")\n",
    "print(f\"{guests[2].title()}... can I call you '{guests[2].title()},' or do you go by 'Lord and Savior?'\")\n",
    "print(f\"Oss, Master {guests[3].title()}!  Come to my favala Saturday...\")\n",
    "print(f\"Man, {guests[4].title()}, it'd be great if you could meet us Saturday and ride your truck around.\")"
   ]
  },
  {
   "cell_type": "markdown",
   "metadata": {},
   "source": [
    "#### 4.) Shake up the guest list and announce the changes"
   ]
  },
  {
   "cell_type": "code",
   "execution_count": 60,
   "metadata": {},
   "outputs": [
    {
     "name": "stdout",
     "output_type": "stream",
     "text": [
      "['trump', 'roosevelt', 'jesus', 'rickson', 'elon']\n",
      "President Trump, I'd be honored if you could come to my house on Saturday.\n",
      "Mr. Roosevelt, we had a change in plans: Honest Abe can't make it.\n",
      "Jesus, can you please tell Lincoln we'll miss him?\n",
      "Oss, Master Rickson!  Still on for Saturday?  Trump's coming!\n",
      "Man, Elon, great news: itsyaboi Trump on Saturday, too!\n"
     ]
    }
   ],
   "source": [
    "guests[0] = \"trump\"\n",
    "\n",
    "replaced_guest = \"lincoln\"\n",
    "\n",
    "print(guests)\n",
    "print(f\"President {guests[0].title()}, I'd be honored if you could come to my house on Saturday.\")\n",
    "print(f\"Mr. {guests[1].title()}, we had a change in plans: Honest Abe can't make it.\")\n",
    "print(f\"{guests[2].title()}, can you please tell {replaced_guest.title()} we'll miss him?\")\n",
    "print(f\"Oss, Master {guests[3].title()}!  Still on for Saturday?  Trump's coming!\")\n",
    "print(f\"Man, {guests[4].title()}, great news: itsyaboi {guests[0].title()} on Saturday, too!\")"
   ]
  },
  {
   "cell_type": "markdown",
   "metadata": {},
   "source": [
    "#### 5.) Add guests using insert and append (skipping the messages to all about the changes)"
   ]
  },
  {
   "cell_type": "code",
   "execution_count": 61,
   "metadata": {},
   "outputs": [
    {
     "name": "stdout",
     "output_type": "stream",
     "text": [
      "['melania', 'trump', 'roosevelt', 'jesus', 'obama', 'rickson', 'elon', 'biden']\n"
     ]
    }
   ],
   "source": [
    "guests.insert(0, \"melania\")\n",
    "guests.insert(4, \"obama\")\n",
    "guests.append(\"biden\")\n",
    "\n",
    "print(guests)"
   ]
  },
  {
   "cell_type": "markdown",
   "metadata": {},
   "source": [
    "#### 6.) Uh-oh.  Table's broken, and now you can't have the dinner.  Pop everyone off until there's two, then delete them.  Print final list - it should be empty"
   ]
  },
  {
   "cell_type": "code",
   "execution_count": 62,
   "metadata": {},
   "outputs": [
    {
     "name": "stdout",
     "output_type": "stream",
     "text": [
      "Sorry, but we had to take Biden off the list.\n",
      "['melania', 'trump', 'roosevelt', 'jesus', 'obama', 'rickson', 'elon']\n",
      "['melania', 'trump', 'roosevelt', 'jesus', 'obama', 'rickson']\n",
      "['melania', 'trump', 'roosevelt', 'obama', 'rickson']\n",
      "['melania', 'trump', 'roosevelt', 'obama']\n",
      "['melania', 'trump', 'roosevelt']\n",
      "['melania', 'trump']\n",
      "['melania']\n",
      "[]\n"
     ]
    }
   ],
   "source": [
    "popped_guest = guests.pop()\n",
    "\n",
    "message = f\"Sorry, but we had to take {popped_guest.title()} off the list.\"\n",
    "\n",
    "print(message)\n",
    "print(guests)\n",
    "\n",
    "guests.pop()\n",
    "\n",
    "print(guests)\n",
    "\n",
    "guests.pop(3)\n",
    "\n",
    "print(guests)\n",
    "\n",
    "guests.pop()\n",
    "\n",
    "print(guests)\n",
    "\n",
    "guests.pop(3)\n",
    "\n",
    "print(guests)\n",
    "\n",
    "guests.pop()\n",
    "\n",
    "print(guests)\n",
    "\n",
    "guests.pop()\n",
    "\n",
    "print(guests)\n",
    "\n",
    "guests.remove(\"melania\")\n",
    "\n",
    "print(guests)\n",
    "\n"
   ]
  },
  {
   "cell_type": "markdown",
   "metadata": {},
   "source": [
    "#### More practice on lists"
   ]
  },
  {
   "cell_type": "code",
   "execution_count": 66,
   "metadata": {},
   "outputs": [
    {
     "name": "stdout",
     "output_type": "stream",
     "text": [
      "['ami', 'ben', 'ford', 'girdly', 'kim', 'scott']\n"
     ]
    }
   ],
   "source": [
    "# Sorting - sorts list PERMANENTLY alphabetically\n",
    "\n",
    "new_guests = [\"ami\", \"scott\", \"ben\", \"kim\", \"girdly\", \"ford\"]\n",
    "\n",
    "new_guests.sort()\n",
    "\n",
    "print(new_guests)\n"
   ]
  },
  {
   "cell_type": "code",
   "execution_count": 69,
   "metadata": {},
   "outputs": [
    {
     "name": "stdout",
     "output_type": "stream",
     "text": [
      "['scott', 'kim', 'girdly', 'ford', 'ben', 'ami']\n"
     ]
    }
   ],
   "source": [
    "new_guests.sort(reverse=True)\n",
    "\n",
    "print(new_guests)"
   ]
  },
  {
   "cell_type": "code",
   "execution_count": 80,
   "metadata": {},
   "outputs": [
    {
     "name": "stdout",
     "output_type": "stream",
     "text": [
      "This is the temporarily sorted list: \n",
      "['april', 'luci', 'mia', 'thomas']\n",
      "Now we go back to the list in its original form: \n",
      "['mia', 'luci', 'thomas', 'april']\n"
     ]
    }
   ],
   "source": [
    "# temporary sort\n",
    "\n",
    "new_guests2 = [\"mia\", \"luci\", \"thomas\", \"april\"]\n",
    "\n",
    "\n",
    "print(\"This is the temporarily sorted list: \")\n",
    "print(sorted(new_guests2))\n",
    "\n",
    "print(\"Now we go back to the list in its original form: \")\n",
    "print(new_guests2)"
   ]
  },
  {
   "cell_type": "code",
   "execution_count": 81,
   "metadata": {},
   "outputs": [
    {
     "name": "stdout",
     "output_type": "stream",
     "text": [
      "['april', 'thomas', 'luci', 'mia']\n"
     ]
    }
   ],
   "source": [
    "# reversing list order - not necessarily reverse alphabetical order\n",
    "\n",
    "new_guests2.reverse()\n",
    "\n",
    "print(new_guests2)"
   ]
  },
  {
   "cell_type": "code",
   "execution_count": 82,
   "metadata": {},
   "outputs": [
    {
     "data": {
      "text/plain": [
       "4"
      ]
     },
     "execution_count": 82,
     "metadata": {},
     "output_type": "execute_result"
    }
   ],
   "source": [
    "# how long is my list of new_guests2?\n",
    "\n",
    "len(new_guests2)"
   ]
  },
  {
   "cell_type": "markdown",
   "metadata": {},
   "source": [
    "### More Exercises\n",
    "\n",
    "**7.) Bucket list five travel destinations.**  "
   ]
  },
  {
   "cell_type": "code",
   "execution_count": 88,
   "metadata": {},
   "outputs": [],
   "source": [
    "wanna_go = [\"san sebastian, spain\", \"florence, italy\", \"mendoza, argentina\", \"new orleans, LA\", \"tokyo, japan\"]"
   ]
  },
  {
   "cell_type": "markdown",
   "metadata": {},
   "source": [
    "**7a.) Put it in *temporary* alphabetical order:**"
   ]
  },
  {
   "cell_type": "code",
   "execution_count": 89,
   "metadata": {},
   "outputs": [
    {
     "data": {
      "text/plain": [
       "['florence, italy',\n",
       " 'mendoza, argentina',\n",
       " 'new orleans, LA',\n",
       " 'san sebastian, spain',\n",
       " 'tokyo, japan']"
      ]
     },
     "execution_count": 89,
     "metadata": {},
     "output_type": "execute_result"
    }
   ],
   "source": [
    "sorted(wanna_go)"
   ]
  },
  {
   "cell_type": "markdown",
   "metadata": {},
   "source": [
    "**7b.) Put the list back in its original order:**"
   ]
  },
  {
   "cell_type": "code",
   "execution_count": 90,
   "metadata": {},
   "outputs": [
    {
     "name": "stdout",
     "output_type": "stream",
     "text": [
      "['san sebastian, spain', 'florence, italy', 'mendoza, argentina', 'new orleans, LA', 'tokyo, japan']\n"
     ]
    }
   ],
   "source": [
    "print(wanna_go)"
   ]
  },
  {
   "cell_type": "markdown",
   "metadata": {},
   "source": [
    "**7c.) Reverse sort temporarily:**"
   ]
  },
  {
   "cell_type": "code",
   "execution_count": 95,
   "metadata": {},
   "outputs": [
    {
     "data": {
      "text/plain": [
       "['tokyo, japan',\n",
       " 'san sebastian, spain',\n",
       " 'new orleans, LA',\n",
       " 'mendoza, argentina',\n",
       " 'florence, italy']"
      ]
     },
     "execution_count": 95,
     "metadata": {},
     "output_type": "execute_result"
    }
   ],
   "source": [
    "sorted(wanna_go, reverse=True)"
   ]
  },
  {
   "cell_type": "markdown",
   "metadata": {},
   "source": [
    "**7d.) Make sure the list is still in its original order:**"
   ]
  },
  {
   "cell_type": "code",
   "execution_count": 96,
   "metadata": {},
   "outputs": [
    {
     "name": "stdout",
     "output_type": "stream",
     "text": [
      "['san sebastian, spain', 'florence, italy', 'mendoza, argentina', 'new orleans, LA', 'tokyo, japan']\n"
     ]
    }
   ],
   "source": [
    "print(wanna_go)"
   ]
  },
  {
   "cell_type": "markdown",
   "metadata": {},
   "source": [
    "**7e.) *Permanently* store the list in alphabetical order:**"
   ]
  },
  {
   "cell_type": "code",
   "execution_count": 99,
   "metadata": {},
   "outputs": [
    {
     "name": "stdout",
     "output_type": "stream",
     "text": [
      "['florence, italy', 'mendoza, argentina', 'new orleans, LA', 'san sebastian, spain', 'tokyo, japan']\n"
     ]
    }
   ],
   "source": [
    "wanna_go.sort()\n",
    "\n",
    "print(wanna_go)"
   ]
  },
  {
   "cell_type": "markdown",
   "metadata": {},
   "source": [
    "**7f.) Now *permanently* sort it in reverse alphabetical order:**"
   ]
  },
  {
   "cell_type": "code",
   "execution_count": 100,
   "metadata": {},
   "outputs": [
    {
     "name": "stdout",
     "output_type": "stream",
     "text": [
      "['tokyo, japan', 'san sebastian, spain', 'new orleans, LA', 'mendoza, argentina', 'florence, italy']\n"
     ]
    }
   ],
   "source": [
    "wanna_go.sort(reverse=True)\n",
    "\n",
    "print(wanna_go)"
   ]
  },
  {
   "cell_type": "markdown",
   "metadata": {},
   "source": [
    "**8.) Using the dinner guest list (or, just create a new one), use 'len' to print a message indicating how many people I am inviting to dinner**"
   ]
  },
  {
   "cell_type": "code",
   "execution_count": 101,
   "metadata": {},
   "outputs": [
    {
     "name": "stdout",
     "output_type": "stream",
     "text": [
      "Including you, there will be a total of 7 dining together that evening.\n"
     ]
    }
   ],
   "source": [
    "guests = [\"aissa\", \"nichole\", \"kristin\", \"marisa\", \"suad\", \"najla\", \"gabby\"]\n",
    "\n",
    "print(f\"Including you, there will be a total of {len(guests)} dining together that evening.\")"
   ]
  },
  {
   "cell_type": "markdown",
   "metadata": {},
   "source": [
    "**9.) Think of something I could store in a list.  Write a small program creating the list and manipulating it using the above functions and methods**"
   ]
  },
  {
   "cell_type": "code",
   "execution_count": 105,
   "metadata": {},
   "outputs": [
    {
     "name": "stdout",
     "output_type": "stream",
     "text": [
      "['barry sanders', 'chucky mullins', 'dick butkus', 'patrick willis', 'ronnie lott', 'tom brady']\n"
     ]
    }
   ],
   "source": [
    "football_faves = [\"ronnie lott\", \"dick butkus\", \"patrick willis\", \"chucky mullins\", \"tom brady\", \"barry sanders\"]\n",
    "\n",
    "print(sorted(football_faves))"
   ]
  },
  {
   "cell_type": "code",
   "execution_count": 106,
   "metadata": {},
   "outputs": [
    {
     "name": "stdout",
     "output_type": "stream",
     "text": [
      "['ronnie lott', 'dick butkus', 'patrick willis', 'chucky mullins', 'tom brady', 'barry sanders']\n"
     ]
    }
   ],
   "source": [
    "# check to make sure it's still in the original order:\n",
    "\n",
    "print(football_faves)"
   ]
  },
  {
   "cell_type": "code",
   "execution_count": 107,
   "metadata": {},
   "outputs": [
    {
     "name": "stdout",
     "output_type": "stream",
     "text": [
      "['ronnie lott', 'dick butkus', 'patrick willis', 'chucky mullins', 'tom brady', 'barry sanders', 'michael irvin']\n"
     ]
    }
   ],
   "source": [
    "football_faves.append(\"michael irvin\")\n",
    "\n",
    "print(football_faves)"
   ]
  },
  {
   "cell_type": "code",
   "execution_count": 108,
   "metadata": {},
   "outputs": [
    {
     "name": "stdout",
     "output_type": "stream",
     "text": [
      "['ronnie lott', 'dick butkus', 'patrick willis', 'tom brady', 'barry sanders', 'michael irvin']\n"
     ]
    }
   ],
   "source": [
    "college_football_player = \"chucky mullins\"\n",
    "\n",
    "football_faves.remove(college_football_player)\n",
    "\n",
    "print(football_faves)"
   ]
  },
  {
   "cell_type": "code",
   "execution_count": 110,
   "metadata": {},
   "outputs": [
    {
     "name": "stdout",
     "output_type": "stream",
     "text": [
      "These are my 6 favorite football players of all time, at least for today: ['ronnie lott', 'dick butkus', 'patrick willis', 'tom brady', 'barry sanders', 'michael irvin']\n"
     ]
    }
   ],
   "source": [
    "print(f\"These are my {len(football_faves)} favorite football players of all time, at least for today: {football_faves}\")"
   ]
  },
  {
   "cell_type": "markdown",
   "metadata": {},
   "source": [
    "### Truly manipulating the power of lists: LOOOOOOOOOOPS\n",
    "\n",
    "**1.) Think of at least three types of sandwiches.  Store the names of the sandwiches in a list, then loop through the list to print the name of each sandwich**"
   ]
  },
  {
   "cell_type": "code",
   "execution_count": 112,
   "metadata": {},
   "outputs": [
    {
     "name": "stdout",
     "output_type": "stream",
     "text": [
      "cuban\n",
      "bahn mi\n",
      "meatball sub\n",
      "parmalinguinicky\n"
     ]
    }
   ],
   "source": [
    "sammies = [\"cuban\", \"bahn mi\", \"meatball sub\", \"parmalinguinicky\"]\n",
    "\n",
    "for sammy in sammies:\n",
    "    print(sammy)"
   ]
  },
  {
   "cell_type": "markdown",
   "metadata": {},
   "source": [
    "**1a.) Modify the loop to print out a sentence about the sandwiches**"
   ]
  },
  {
   "cell_type": "code",
   "execution_count": 118,
   "metadata": {},
   "outputs": [
    {
     "name": "stdout",
     "output_type": "stream",
     "text": [
      "The Cuban remains one of my favorite sandwiches to this day.\n",
      "The Bahn Mi remains one of my favorite sandwiches to this day.\n",
      "The Meatball Sub remains one of my favorite sandwiches to this day.\n",
      "The Parmalinguinicky remains one of my favorite sandwiches to this day.\n"
     ]
    }
   ],
   "source": [
    "for sammy in sammies:\n",
    "    print(f\"The {sammy.title()} remains one of my favorite sandwiches to this day.\")"
   ]
  },
  {
   "cell_type": "markdown",
   "metadata": {},
   "source": [
    "**1b.) Add a line outside the loop that states how much I like sandwiches**"
   ]
  },
  {
   "cell_type": "code",
   "execution_count": 119,
   "metadata": {},
   "outputs": [
    {
     "name": "stdout",
     "output_type": "stream",
     "text": [
      "I really like Cuban sandwiches, but there's so many more I can't name off the top of my head.\n",
      "I really like Bahn Mi sandwiches, but there's so many more I can't name off the top of my head.\n",
      "I really like Meatball Sub sandwiches, but there's so many more I can't name off the top of my head.\n",
      "I really like Parmalinguinicky sandwiches, but there's so many more I can't name off the top of my head.\n",
      "I guess I just really like sandwiches - they're the perfect food!\n"
     ]
    }
   ],
   "source": [
    "for sammy in sammies:\n",
    "    print(f\"I really like {sammy.title()} sandwiches, but there's so many more I can't name off the top of my head.\")\n",
    "    \n",
    "print(\"I guess I just really like sandwiches - they're the perfect food!\")"
   ]
  },
  {
   "cell_type": "markdown",
   "metadata": {},
   "source": [
    "**2.) Come up with three insects with a common characteristic.  Loop through the list and print each insect's name**"
   ]
  },
  {
   "cell_type": "code",
   "execution_count": 120,
   "metadata": {},
   "outputs": [
    {
     "name": "stdout",
     "output_type": "stream",
     "text": [
      "bees\n",
      "wasps\n",
      "queen ants\n",
      "flies\n",
      "mosquitos\n"
     ]
    }
   ],
   "source": [
    "bugs = [\"bees\", \"wasps\", \"queen ants\", \"flies\", \"mosquitos\"]\n",
    "\n",
    "for bug in bugs:\n",
    "    print(bug)"
   ]
  },
  {
   "cell_type": "markdown",
   "metadata": {},
   "source": [
    "**2a.) Modify the loop to print a sentence about each insect**"
   ]
  },
  {
   "cell_type": "code",
   "execution_count": 117,
   "metadata": {},
   "outputs": [
    {
     "name": "stdout",
     "output_type": "stream",
     "text": [
      "Bees are interesting insects.\n",
      "Wasps are interesting insects.\n",
      "Queen ants are interesting insects.\n",
      "Flies are interesting insects.\n",
      "Mosquitos are interesting insects.\n"
     ]
    }
   ],
   "source": [
    "for bug in bugs:\n",
    "    print(f\"{bug.capitalize()} are interesting insects.\")"
   ]
  },
  {
   "cell_type": "markdown",
   "metadata": {},
   "source": [
    "**2b.) Add a line outside the loop to declare what these insects all have in common**"
   ]
  },
  {
   "cell_type": "code",
   "execution_count": 121,
   "metadata": {},
   "outputs": [
    {
     "name": "stdout",
     "output_type": "stream",
     "text": [
      "Bees are interesting insects, do you know why?\n",
      "Wasps are interesting insects, do you know why?\n",
      "Queen ants are interesting insects, do you know why?\n",
      "Flies are interesting insects, do you know why?\n",
      "Mosquitos are interesting insects, do you know why?\n",
      "Because they all can't seem to leave me alone when I go camping!\n",
      "(Thought I was gonna say, 'because they all have wings', right?)\n"
     ]
    }
   ],
   "source": [
    "for bug in bugs: \n",
    "    print(f\"{bug.capitalize()} are interesting insects, do you know why?\")\n",
    "    \n",
    "print(\"Because they all can't seem to leave me alone when I go camping!\")\n",
    "print(\"(Thought I was gonna say, 'because they all have wings', right?)\")"
   ]
  },
  {
   "cell_type": "markdown",
   "metadata": {},
   "source": [
    "**NOTES ON THE DREADED 'RANGE()' FUNCTION**"
   ]
  },
  {
   "cell_type": "code",
   "execution_count": 125,
   "metadata": {},
   "outputs": [
    {
     "name": "stdout",
     "output_type": "stream",
     "text": [
      "1\n",
      "2\n",
      "3\n",
      "4\n",
      "5\n",
      "6\n",
      "7\n",
      "8\n"
     ]
    }
   ],
   "source": [
    "# It can generate a series of numbers:\n",
    "\n",
    "for num in range(1, 9): # excludes last num in range\n",
    "    print(num)"
   ]
  },
  {
   "cell_type": "markdown",
   "metadata": {},
   "source": [
    "**Range will count from the first number you give it UP TO the number RIGHT BEFORE the last one you give it**\n",
    "\n",
    "- \"range(35, 900)\" will generate all the numbers between 35 and 899\n",
    "\n",
    "- so if you want to include '900' in your numbers, you *must* type \"range(35, 901)\""
   ]
  },
  {
   "cell_type": "code",
   "execution_count": 128,
   "metadata": {},
   "outputs": [
    {
     "name": "stdout",
     "output_type": "stream",
     "text": [
      "0\n",
      "1\n",
      "2\n",
      "3\n",
      "4\n",
      "5\n"
     ]
    }
   ],
   "source": [
    "# You can also pass it just a single argument!\n",
    "\n",
    "for num in range(6):\n",
    "    print(num)"
   ]
  },
  {
   "cell_type": "markdown",
   "metadata": {},
   "source": [
    "**You can make a LIST a RANGE of numbers:**"
   ]
  },
  {
   "cell_type": "code",
   "execution_count": 130,
   "metadata": {},
   "outputs": [
    {
     "name": "stdout",
     "output_type": "stream",
     "text": [
      "[35, 36, 37, 38, 39, 40, 41, 42, 43, 44]\n"
     ]
    }
   ],
   "source": [
    "numbs = list(range(35, 45))\n",
    "\n",
    "print(numbs)"
   ]
  },
  {
   "cell_type": "code",
   "execution_count": 132,
   "metadata": {},
   "outputs": [
    {
     "name": "stdout",
     "output_type": "stream",
     "text": [
      "[35, 37, 39, 41, 43]\n"
     ]
    }
   ],
   "source": [
    "# but what if I only want to skip every other number between 35 and 45?\n",
    "\n",
    "skip_nums = list(range(35, 45, 2))\n",
    "\n",
    "print(skip_nums)"
   ]
  },
  {
   "cell_type": "code",
   "execution_count": 133,
   "metadata": {},
   "outputs": [
    {
     "name": "stdout",
     "output_type": "stream",
     "text": [
      "The number is 2.  Squared, that's 4, and doubled that's 4.\n",
      "The number is 4.  Squared, that's 16, and doubled that's 8.\n",
      "The number is 6.  Squared, that's 36, and doubled that's 12.\n",
      "The number is 8.  Squared, that's 64, and doubled that's 16.\n",
      "The number is 10.  Squared, that's 100, and doubled that's 20.\n",
      "The number is 12.  Squared, that's 144, and doubled that's 24.\n",
      "The number is 14.  Squared, that's 196, and doubled that's 28.\n",
      "The number is 16.  Squared, that's 256, and doubled that's 32.\n"
     ]
    }
   ],
   "source": [
    "# let's do some math with ranges:\n",
    "\n",
    "loop_nums = list(range(2, 17, 2))\n",
    "\n",
    "for num in loop_nums:\n",
    "    print(f\"The number is {num}.  Squared, that's {num**2}, and doubled that's {num + num}.\")"
   ]
  },
  {
   "cell_type": "code",
   "execution_count": 134,
   "metadata": {},
   "outputs": [
    {
     "name": "stdout",
     "output_type": "stream",
     "text": [
      "['lab', 'poodle', 'rott', 'doberman', 'german shepherd']\n"
     ]
    }
   ],
   "source": [
    "# functions use lists a lot of the time, so let's start manipulating lists using for loops\n",
    "\n",
    "dogs = []\n",
    "\n",
    "dog_list = [\"lab\", \"poodle\", \"rott\", \"doberman\", \"german shepherd\"]\n",
    "\n",
    "for dog in dog_list:\n",
    "    dogs.append(dog)\n",
    "\n",
    "print(dogs)"
   ]
  },
  {
   "cell_type": "markdown",
   "metadata": {},
   "source": [
    "**Stats fun with lists**"
   ]
  },
  {
   "cell_type": "code",
   "execution_count": 137,
   "metadata": {},
   "outputs": [
    {
     "name": "stdout",
     "output_type": "stream",
     "text": [
      "0.118\n",
      "0.368\n",
      "1.6139999999999999\n"
     ]
    }
   ],
   "source": [
    "batting_avgs = [.289, .300, .118, .368, .240, .299]\n",
    "\n",
    "print(min(batting_avgs))\n",
    "\n",
    "print(max(batting_avgs))\n",
    "\n",
    "print(sum(batting_avgs))\n"
   ]
  },
  {
   "cell_type": "markdown",
   "metadata": {},
   "source": [
    "**Ugh.  List comprehensions.  More like 'list APREHENSIONS,' amirite?**\n",
    "\n",
    "- for loops in one line of code"
   ]
  },
  {
   "cell_type": "code",
   "execution_count": 141,
   "metadata": {},
   "outputs": [
    {
     "name": "stdout",
     "output_type": "stream",
     "text": [
      "[2, 4, 6, 8, 10]\n"
     ]
    }
   ],
   "source": [
    "numbers = [1, 2, 3, 4, 5]\n",
    "\n",
    "doubled_numbers = []\n",
    "for n in numbers:\n",
    "    doubled_numbers.append(n * 2)\n",
    "\n",
    "print(doubled_numbers)"
   ]
  },
  {
   "cell_type": "markdown",
   "metadata": {},
   "source": [
    "**^^This is the *exact same* as this: vv**"
   ]
  },
  {
   "cell_type": "code",
   "execution_count": 145,
   "metadata": {},
   "outputs": [
    {
     "name": "stdout",
     "output_type": "stream",
     "text": [
      "[2, 4, 6, 8, 10]\n"
     ]
    }
   ],
   "source": [
    "doubled_numbers = [n*2 for n in numbers] \n",
    "\n",
    "print(doubled_numbers)"
   ]
  },
  {
   "cell_type": "markdown",
   "metadata": {},
   "source": [
    "### MORE Exercises"
   ]
  },
  {
   "cell_type": "markdown",
   "metadata": {},
   "source": [
    "**3.) Use a for loop to count from 1 to 20**"
   ]
  },
  {
   "cell_type": "code",
   "execution_count": 163,
   "metadata": {},
   "outputs": [
    {
     "name": "stdout",
     "output_type": "stream",
     "text": [
      "1\n",
      "2\n",
      "3\n",
      "4\n",
      "5\n",
      "6\n",
      "7\n",
      "8\n",
      "9\n",
      "10\n",
      "11\n",
      "12\n",
      "13\n",
      "14\n",
      "15\n",
      "16\n",
      "17\n",
      "18\n",
      "19\n",
      "20\n"
     ]
    }
   ],
   "source": [
    "double_deca = range(1, 21)\n",
    "\n",
    "for num in double_deca:\n",
    "    print(num)"
   ]
  },
  {
   "cell_type": "markdown",
   "metadata": {},
   "source": [
    "**4.) Count to a million**"
   ]
  },
  {
   "cell_type": "code",
   "execution_count": 150,
   "metadata": {},
   "outputs": [],
   "source": [
    "# Would love to, but there's now way anybody's gonna read all that.  \n",
    "\n",
    "# So to bypass this, I'll just write the code and not run it\n",
    "\n",
    "brewsters = range(1, 1000001)\n",
    "# for pryor in brewsters:\n",
    "#     print(pryor)"
   ]
  },
  {
   "cell_type": "markdown",
   "metadata": {},
   "source": [
    "**5.) Min, max, and sum a million**"
   ]
  },
  {
   "cell_type": "code",
   "execution_count": 153,
   "metadata": {},
   "outputs": [
    {
     "name": "stdout",
     "output_type": "stream",
     "text": [
      "1\n",
      "1000000\n",
      "500000500000\n"
     ]
    }
   ],
   "source": [
    "print(min(brewsters))\n",
    "print(max(brewsters))\n",
    "print(sum(brewsters))"
   ]
  },
  {
   "cell_type": "markdown",
   "metadata": {},
   "source": [
    "**6.) Odd numbers from 1 to 20**"
   ]
  },
  {
   "cell_type": "code",
   "execution_count": 159,
   "metadata": {},
   "outputs": [
    {
     "name": "stdout",
     "output_type": "stream",
     "text": [
      "[1, 3, 5, 7, 9, 11, 13, 15, 17, 19]\n"
     ]
    }
   ],
   "source": [
    "oddz = list(range(1, 20, 2))\n",
    "print(oddz)"
   ]
  },
  {
   "cell_type": "markdown",
   "metadata": {},
   "source": [
    "**7.) Count every third number between 3 and 30**"
   ]
  },
  {
   "cell_type": "code",
   "execution_count": 164,
   "metadata": {},
   "outputs": [
    {
     "name": "stdout",
     "output_type": "stream",
     "text": [
      "[3, 6, 9, 12, 15, 18, 21, 24, 27, 30]\n"
     ]
    }
   ],
   "source": [
    "threez = list(range(3, 31, 3))\n",
    "print(threez)"
   ]
  },
  {
   "cell_type": "markdown",
   "metadata": {},
   "source": [
    "**8.) Write a for loop cubing through the numbers 1 through 10**"
   ]
  },
  {
   "cell_type": "code",
   "execution_count": 165,
   "metadata": {},
   "outputs": [
    {
     "name": "stdout",
     "output_type": "stream",
     "text": [
      "1\n",
      "8\n",
      "27\n",
      "64\n",
      "125\n",
      "216\n",
      "343\n",
      "512\n",
      "729\n",
      "1000\n"
     ]
    }
   ],
   "source": [
    "cubez = range(1, 11)\n",
    "\n",
    "for num in cubez:\n",
    "    print(num**3)"
   ]
  },
  {
   "cell_type": "markdown",
   "metadata": {},
   "source": [
    "**9.) Rewrite the same thing in #8, but as a list comprehension**"
   ]
  },
  {
   "cell_type": "code",
   "execution_count": 166,
   "metadata": {},
   "outputs": [
    {
     "name": "stdout",
     "output_type": "stream",
     "text": [
      "[1, 8, 27, 64, 125, 216, 343, 512, 729, 1000]\n"
     ]
    }
   ],
   "source": [
    "cube_list_comp = [num**3 for num in range(1, 11)]\n",
    "\n",
    "print(cube_list_comp)"
   ]
  },
  {
   "cell_type": "markdown",
   "metadata": {},
   "source": [
    "### Going Ginsu on Lists (Slicing Them Up)\n",
    "\n",
    "- here's where the indexes come in handy\n",
    "\n",
    "- you specify the index (indexes) you want to work with\n",
    "\n",
    "- indexes start with [0], so the first three indexes are [0], [1], and [2]\n",
    "\n",
    "- last index of a list = [-1], because for some reason Python can count backward but not forward"
   ]
  },
  {
   "cell_type": "markdown",
   "metadata": {},
   "source": [
    "**To loop through a slice:**"
   ]
  },
  {
   "cell_type": "code",
   "execution_count": 169,
   "metadata": {},
   "outputs": [
    {
     "name": "stdout",
     "output_type": "stream",
     "text": [
      "Here is what I typically use for a dry rub on any cut of pork I want to barbeque:\n",
      "kosher salt\n",
      "black pepper\n",
      "paprika\n",
      "garlic poweder\n",
      "dried mustard\n",
      "fennel\n",
      "And while all of it is good, the things you REALLY need are:\n",
      "kosher salt\n",
      "black pepper\n",
      "paprika\n"
     ]
    }
   ],
   "source": [
    "bbq_rub = [\"kosher salt\", \"black pepper\", \"paprika\", \"garlic poweder\", \"dried mustard\", \"fennel\"]\n",
    "\n",
    "print(\"Here is what I typically use for a dry rub on any cut of pork I want to barbeque:\")\n",
    "\n",
    "for i in bbq_rub:\n",
    "    print(i)\n",
    "\n",
    "print(\"And while all of it is good, the things you REALLY need are:\")\n",
    "\n",
    "for n in bbq_rub[:3]:\n",
    "    print(n)"
   ]
  },
  {
   "cell_type": "code",
   "execution_count": 170,
   "metadata": {},
   "outputs": [
    {
     "name": "stdout",
     "output_type": "stream",
     "text": [
      "['kosher salt', 'black pepper', 'paprika', 'garlic poweder', 'dried mustard', 'fennel']\n",
      "['kosher salt', 'black pepper', 'paprika', 'garlic poweder', 'dried mustard', 'fennel']\n"
     ]
    }
   ],
   "source": [
    "# Copying a list\n",
    "\n",
    "rib_rub = bbq_rub[:]\n",
    "\n",
    "print(rib_rub)\n",
    "print(bbq_rub)"
   ]
  },
  {
   "cell_type": "code",
   "execution_count": 172,
   "metadata": {},
   "outputs": [
    {
     "name": "stdout",
     "output_type": "stream",
     "text": [
      "['kosher salt', 'black pepper', 'paprika', 'garlic poweder', 'dried mustard', 'fennel', 'brown sugar', 'brown sugar']\n",
      "['kosher salt', 'black pepper', 'paprika', 'garlic poweder', 'dried mustard', 'fennel', 'white sugar', 'white sugar']\n"
     ]
    }
   ],
   "source": [
    "# make sure you have two different lists with which to work\n",
    "\n",
    "rib_rub.append(\"brown sugar\")\n",
    "print(rib_rub)\n",
    "\n",
    "bbq_rub.append(\"white sugar\")\n",
    "print(bbq_rub)"
   ]
  },
  {
   "cell_type": "markdown",
   "metadata": {},
   "source": [
    "### More Exercises"
   ]
  },
  {
   "cell_type": "markdown",
   "metadata": {},
   "source": [
    "**10.) Write a new list program, adding several things to it as you go along**"
   ]
  },
  {
   "cell_type": "code",
   "execution_count": 174,
   "metadata": {},
   "outputs": [
    {
     "name": "stdout",
     "output_type": "stream",
     "text": [
      "The first three items are: ['beef', 'cereal', 'milk']\n",
      "The three items in the middle of the list are: ['cereal', 'milk', 'veggies']\n",
      "The last three items on the list are: ['veggies', 'eggs']\n"
     ]
    }
   ],
   "source": [
    "groceries = [\"beef\", \"cereal\", \"milk\", \"veggies\", \"eggs\", \"chicken\"]\n",
    "\n",
    "# first three items in the list\n",
    "\n",
    "print(f\"The first three items are: {groceries[:3]}\")\n",
    "\n",
    "print(f\"The three items in the middle of the list are: {groceries[1:4]}\")\n",
    "\n",
    "print(f\"The last three items on the list are: {groceries[3:-1]}\")"
   ]
  },
  {
   "cell_type": "markdown",
   "metadata": {},
   "source": [
    "**11.) Make a sandwich**"
   ]
  },
  {
   "cell_type": "code",
   "execution_count": 175,
   "metadata": {},
   "outputs": [
    {
     "name": "stdout",
     "output_type": "stream",
     "text": [
      "My favorite sandwich is the Cuban Sandwich, and it has the following ingredients: \n",
      "ham\n",
      "swiss\n",
      "pulled pork\n",
      "pickle\n",
      "mustard\n",
      "pressed baguette\n",
      "chimichuri dipping sauce\n",
      "But my friend disagrees because he hates cilantro and is a drunk.  He thinks it's: \n",
      "ham\n",
      "swiss\n",
      "pulled pork\n",
      "pickle\n",
      "mustard\n",
      "pressed baguette\n",
      "cold beer\n"
     ]
    }
   ],
   "source": [
    "perfect_cuban = [\"ham\", \"swiss\", \"pulled pork\", \"pickle\", \"mustard\", \"pressed baguette\"]\n",
    "\n",
    "copy_cuban = perfect_cuban[:]\n",
    "\n",
    "perfect_cuban.append(\"chimichuri dipping sauce\")\n",
    "\n",
    "copy_cuban.append(\"cold beer\")\n",
    "\n",
    "print(\"My favorite sandwich is the Cuban Sandwich, and it has the following ingredients: \")\n",
    "for p in perfect_cuban:\n",
    "    print(p)\n",
    "\n",
    "print(\"But my friend disagrees because he hates cilantro and is a drunk.  He thinks it's: \")\n",
    "for c in copy_cuban:\n",
    "    print(c)"
   ]
  },
  {
   "cell_type": "markdown",
   "metadata": {},
   "source": [
    "### Fun with Tuples!  'Tupples?'  'Tooples?'  Lists in parentheses separated by columns... Those.\n",
    "\n",
    "- you can't change the values in a tuple - they are immutable\n",
    "\n",
    "- when programming and you don't want things to change (say, a rectangle needs to always be a certain size), use a tuple\n",
    "\n",
    "- **VIMP** Since tuples are values separated by commas, single-element tuples (though rare) occur, and they are single elements with a comma after them.  **Eg: weird_tuple = (4,)**\n",
    "\n",
    "- assign tuples to variables.  That way, if I ever want to change the tuple's values, I can just re-assign the new values to the old variable."
   ]
  },
  {
   "cell_type": "code",
   "execution_count": 176,
   "metadata": {},
   "outputs": [
    {
     "name": "stdout",
     "output_type": "stream",
     "text": [
      "(4, 7)\n",
      "(5, 8)\n"
     ]
    }
   ],
   "source": [
    "# Overwriting a tuple\n",
    "\n",
    "dogs = (4, 7)\n",
    "print(dogs)\n",
    "\n",
    "dogs = (5, 8)\n",
    "print(dogs)"
   ]
  },
  {
   "cell_type": "markdown",
   "metadata": {},
   "source": [
    "### LAST Exercise in list chapter\n",
    "\n",
    "**13.) A pizza buffet has five different pizzas**"
   ]
  },
  {
   "cell_type": "code",
   "execution_count": 179,
   "metadata": {},
   "outputs": [],
   "source": [
    "pizzas = (\"pepperoni\", \"hawaiian\", \"sausage\", \"meat lover\", \"veggie\")"
   ]
  },
  {
   "cell_type": "markdown",
   "metadata": {},
   "source": [
    "**13a.) Use a for loop to print each of the pizzas**"
   ]
  },
  {
   "cell_type": "code",
   "execution_count": 180,
   "metadata": {},
   "outputs": [
    {
     "name": "stdout",
     "output_type": "stream",
     "text": [
      "The list of pizzas on their buffet are:\n",
      "pepperoni\n",
      "hawaiian\n",
      "sausage\n",
      "meat lover\n",
      "veggie\n"
     ]
    }
   ],
   "source": [
    "print(\"The list of pizzas on their buffet are:\")\n",
    "for p in pizzas:\n",
    "    print(p)"
   ]
  },
  {
   "cell_type": "markdown",
   "metadata": {},
   "source": [
    "**13b.) *Purposely* code a rejection by trying to change one of the pizzas**"
   ]
  },
  {
   "cell_type": "code",
   "execution_count": 182,
   "metadata": {},
   "outputs": [
    {
     "ename": "AttributeError",
     "evalue": "'tuple' object has no attribute 'append'",
     "output_type": "error",
     "traceback": [
      "\u001b[0;31m---------------------------------------------------------------------------\u001b[0m",
      "\u001b[0;31mAttributeError\u001b[0m                            Traceback (most recent call last)",
      "\u001b[0;32m<ipython-input-182-6bfc7a70c697>\u001b[0m in \u001b[0;36m<module>\u001b[0;34m\u001b[0m\n\u001b[0;32m----> 1\u001b[0;31m \u001b[0mpizzas\u001b[0m\u001b[0;34m.\u001b[0m\u001b[0mappend\u001b[0m\u001b[0;34m(\u001b[0m\u001b[0;34m\"dessert\"\u001b[0m\u001b[0;34m)\u001b[0m\u001b[0;34m\u001b[0m\u001b[0;34m\u001b[0m\u001b[0m\n\u001b[0m",
      "\u001b[0;31mAttributeError\u001b[0m: 'tuple' object has no attribute 'append'"
     ]
    }
   ],
   "source": [
    "pizzas.append(\"dessert\")"
   ]
  },
  {
   "cell_type": "markdown",
   "metadata": {},
   "source": [
    "**13c.) Different seasons, different pizza.  Change the tuple**"
   ]
  },
  {
   "cell_type": "code",
   "execution_count": 183,
   "metadata": {},
   "outputs": [
    {
     "name": "stdout",
     "output_type": "stream",
     "text": [
      "New pizzas for this Summer:\n",
      "pepperoni\n",
      "hawaiian\n",
      "gluten free\n",
      "vegan\n",
      "ghost pepper\n"
     ]
    }
   ],
   "source": [
    "pizzas = (\"pepperoni\", \"hawaiian\", \"gluten free\", \"vegan\", \"ghost pepper\")\n",
    "\n",
    "print(\"New pizzas for this Summer:\")\n",
    "for p in pizzas:\n",
    "    print(p)"
   ]
  }
 ],
 "metadata": {
  "kernelspec": {
   "display_name": "Python 3",
   "language": "python",
   "name": "python3"
  },
  "language_info": {
   "codemirror_mode": {
    "name": "ipython",
    "version": 3
   },
   "file_extension": ".py",
   "mimetype": "text/x-python",
   "name": "python",
   "nbconvert_exporter": "python",
   "pygments_lexer": "ipython3",
   "version": "3.7.4"
  }
 },
 "nbformat": 4,
 "nbformat_minor": 2
}
