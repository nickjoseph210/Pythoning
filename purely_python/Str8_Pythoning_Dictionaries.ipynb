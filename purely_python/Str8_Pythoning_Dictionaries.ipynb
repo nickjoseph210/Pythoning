{
 "cells": [
  {
   "cell_type": "markdown",
   "metadata": {},
   "source": [
    "## Dictionaries\n",
    "\n",
    "- keys and values\n",
    "\n",
    "- great to have a mastery of when dealing with json files and APIs\n",
    "\n",
    "- simple format is {\"key\" : \"value\"}"
   ]
  },
  {
   "cell_type": "code",
   "execution_count": 1,
   "metadata": {},
   "outputs": [
    {
     "data": {
      "text/plain": [
       "'green'"
      ]
     },
     "execution_count": 1,
     "metadata": {},
     "output_type": "execute_result"
    }
   ],
   "source": [
    "# simple \n",
    "\n",
    "alien_0 = {\"color\" : \"green\", \"points\" : 5}\n",
    "\n",
    "alien_0[\"color\"]"
   ]
  },
  {
   "cell_type": "code",
   "execution_count": 2,
   "metadata": {},
   "outputs": [
    {
     "data": {
      "text/plain": [
       "5"
      ]
     },
     "execution_count": 2,
     "metadata": {},
     "output_type": "execute_result"
    }
   ],
   "source": [
    "alien_0[\"points\"]"
   ]
  },
  {
   "cell_type": "code",
   "execution_count": 3,
   "metadata": {},
   "outputs": [
    {
     "name": "stdout",
     "output_type": "stream",
     "text": [
      "{'color': 'green', 'points': 5}\n"
     ]
    }
   ],
   "source": [
    "print(alien_0)"
   ]
  },
  {
   "cell_type": "code",
   "execution_count": 4,
   "metadata": {},
   "outputs": [
    {
     "name": "stdout",
     "output_type": "stream",
     "text": [
      "color\n",
      "points\n"
     ]
    }
   ],
   "source": [
    "for key in alien_0:\n",
    "    print(key)"
   ]
  },
  {
   "cell_type": "code",
   "execution_count": 5,
   "metadata": {},
   "outputs": [
    {
     "name": "stdout",
     "output_type": "stream",
     "text": [
      "green\n"
     ]
    }
   ],
   "source": [
    "print(alien_0[\"color\"])"
   ]
  },
  {
   "cell_type": "code",
   "execution_count": 6,
   "metadata": {},
   "outputs": [
    {
     "name": "stdout",
     "output_type": "stream",
     "text": [
      "5\n"
     ]
    }
   ],
   "source": [
    "print(alien_0[\"points\"])"
   ]
  },
  {
   "cell_type": "code",
   "execution_count": 7,
   "metadata": {},
   "outputs": [
    {
     "name": "stdout",
     "output_type": "stream",
     "text": [
      "yellow\n"
     ]
    }
   ],
   "source": [
    "# expanded\n",
    "\n",
    "alien_0 = {\"color\" : \"green\", \"points\" : 5}\n",
    "alien_1 = {\"color\" : \"yellow\", \"points\" : 10}\n",
    "alien_2 = {\"color\" : \"red\", \"points\" : 15}\n",
    "\n",
    "print(alien_1[\"color\"])"
   ]
  },
  {
   "cell_type": "code",
   "execution_count": 8,
   "metadata": {},
   "outputs": [
    {
     "name": "stdout",
     "output_type": "stream",
     "text": [
      "15\n"
     ]
    }
   ],
   "source": [
    "print(alien_2[\"points\"])"
   ]
  },
  {
   "cell_type": "markdown",
   "metadata": {},
   "source": [
    "**Now pretend the player shoots down the alien.  Keep track of the points in a new list:**"
   ]
  },
  {
   "cell_type": "code",
   "execution_count": 9,
   "metadata": {},
   "outputs": [
    {
     "name": "stdout",
     "output_type": "stream",
     "text": [
      "A yellow alien!  You just scored 10 points!\n",
      "Ugh!  We hate green aliens!  You nailed that sucker for 5 points!\n",
      "Boom: red!  15 points for that mofo!\n"
     ]
    }
   ],
   "source": [
    "first_points = alien_1[\"points\"]\n",
    "second_points = alien_0[\"points\"]\n",
    "third_points = alien_2[\"points\"]\n",
    "\n",
    "\n",
    "print(f\"A {alien_1['color']} alien!  You just scored {first_points} points!\")\n",
    "print(f\"Ugh!  We hate {alien_0['color']} aliens!  You nailed that sucker for {second_points} points!\")\n",
    "print(f\"Boom: {alien_2['color']}!  {third_points} points for that mofo!\")"
   ]
  },
  {
   "cell_type": "markdown",
   "metadata": {},
   "source": [
    "**Formula for accessing the info within a dictionary is:**\n",
    "    \n",
    "    - dictionary_name [ 'key_I_am_looking_for']"
   ]
  },
  {
   "cell_type": "markdown",
   "metadata": {},
   "source": [
    "**Adding new Key-Value pairs:**\n",
    "    \n",
    "    - dictionary_name ['what_I_want_new_key_to_be_called'] = value_of_this_new_key"
   ]
  },
  {
   "cell_type": "code",
   "execution_count": 10,
   "metadata": {},
   "outputs": [
    {
     "name": "stdout",
     "output_type": "stream",
     "text": [
      "{'color': 'yellow', 'points': 10}\n"
     ]
    }
   ],
   "source": [
    "print(alien_1)"
   ]
  },
  {
   "cell_type": "code",
   "execution_count": 11,
   "metadata": {},
   "outputs": [],
   "source": [
    "alien_1[\"weight\"] = \"800 pounds\"\n",
    "alien_1[\"speed\"] = \"40 miles per hour\""
   ]
  },
  {
   "cell_type": "code",
   "execution_count": 12,
   "metadata": {},
   "outputs": [
    {
     "name": "stdout",
     "output_type": "stream",
     "text": [
      "{'color': 'yellow', 'points': 10, 'weight': '800 pounds', 'speed': '40 miles per hour'}\n"
     ]
    }
   ],
   "source": [
    "print(alien_1)"
   ]
  },
  {
   "cell_type": "markdown",
   "metadata": {},
   "source": [
    "**Starting with an empty dictionary and filling values into it is the same format as adding values to existing dictionaries:**\n",
    "\n",
    "    - new_name = {}\n",
    "    \n",
    "    - new_name[\"what_I_want_the_key_to_be_called\"] = \"value_of _this_new_key\"\n",
    " "
   ]
  },
  {
   "cell_type": "code",
   "execution_count": 13,
   "metadata": {},
   "outputs": [
    {
     "name": "stdout",
     "output_type": "stream",
     "text": [
      "{'What': 'New dictionary', 'Why': 'Trying to understand dictionaries better'}\n"
     ]
    }
   ],
   "source": [
    "new_dictionary = {}\n",
    "\n",
    "new_dictionary[\"What\"] = \"New dictionary\"\n",
    "\n",
    "new_dictionary[\"Why\"] = \"Trying to understand dictionaries better\"\n",
    "\n",
    "print(new_dictionary)"
   ]
  },
  {
   "cell_type": "markdown",
   "metadata": {},
   "source": [
    "**Format to *modify* values in a dictionary:**\n",
    "    \n",
    "    - dictionary_name [\"existing_key_name\"] = \"new_value_for_that_key\"\n",
    "    \n",
    "    - it's just like assigning a new value to an existing variable."
   ]
  },
  {
   "cell_type": "markdown",
   "metadata": {},
   "source": [
    "**REMOVING key-value pairs:**\n",
    "    \n",
    "    - 'del' statement completely removes the k-v pair\n",
    "    \n",
    "        = del dictionary_name [\"key_I_want_deleted\"]"
   ]
  },
  {
   "cell_type": "code",
   "execution_count": 14,
   "metadata": {},
   "outputs": [
    {
     "name": "stdout",
     "output_type": "stream",
     "text": [
      "{'What': 'New dictionary', 'Why': 'Trying to understand dictionaries better'}\n"
     ]
    }
   ],
   "source": [
    "print(new_dictionary)"
   ]
  },
  {
   "cell_type": "code",
   "execution_count": 15,
   "metadata": {},
   "outputs": [],
   "source": [
    "del new_dictionary[\"What\"]"
   ]
  },
  {
   "cell_type": "code",
   "execution_count": 16,
   "metadata": {},
   "outputs": [
    {
     "name": "stdout",
     "output_type": "stream",
     "text": [
      "{'Why': 'Trying to understand dictionaries better'}\n"
     ]
    }
   ],
   "source": [
    "print(new_dictionary)"
   ]
  },
  {
   "cell_type": "code",
   "execution_count": 17,
   "metadata": {},
   "outputs": [],
   "source": [
    "del new_dictionary[\"Why\"]"
   ]
  },
  {
   "cell_type": "code",
   "execution_count": 18,
   "metadata": {},
   "outputs": [
    {
     "name": "stdout",
     "output_type": "stream",
     "text": [
      "{}\n"
     ]
    }
   ],
   "source": [
    "print(new_dictionary)"
   ]
  },
  {
   "cell_type": "markdown",
   "metadata": {},
   "source": [
    "**'What if you're taking a poll, though, and want to keep track of different peoples' responses?'  Good question...**"
   ]
  },
  {
   "cell_type": "code",
   "execution_count": 19,
   "metadata": {},
   "outputs": [
    {
     "name": "stdout",
     "output_type": "stream",
     "text": [
      "Adam's favorite sport is boxing.\n"
     ]
    }
   ],
   "source": [
    "fave_sports = {\n",
    "    \"steve\" : \"hunting\", \n",
    "    \"gabby\" : \"running\", \n",
    "    \"michael\" : \"polo\",\n",
    "    \"adam\" : \"boxing\", \n",
    "    \"gina\" : \"football\", # remember to always put a comma after the last key:value pair - it's good practice\n",
    "}\n",
    "\n",
    "adam = fave_sports[\"adam\"] # assign the k:v pair to a variable for easier calling and reading\n",
    "\n",
    "print(f\"Adam's favorite sport is {adam}.\")"
   ]
  },
  {
   "cell_type": "markdown",
   "metadata": {},
   "source": [
    "**Using 'get( )' to pass a value when no value is actually assigned in the dictionary**\n",
    "\n",
    "- Say someone found out I took that poll of favorite sports, and wondered what Kathy's favorite sport was\n",
    "\n",
    "- Well, I didn't interview Kathy.  If that person checks Kathy's favorite sport (using code), they'll get an error message\n",
    "\n",
    "- Well, that's no bueno: what if I write an extensive program that just ends when someone asks it something for which it doesn't have an answer?  They need an answer, and the code needs to keep running, so we use 'get ()'\n",
    "\n",
    "- 'GET()' sets a default value that can return so that the program can keep running\n",
    "\n",
    "        - variable_name = get(\"non_existent_key\", \"value_for_non_existent_key\")"
   ]
  },
  {
   "cell_type": "code",
   "execution_count": 20,
   "metadata": {},
   "outputs": [
    {
     "ename": "KeyError",
     "evalue": "'karen'",
     "output_type": "error",
     "traceback": [
      "\u001b[0;31m---------------------------------------------------------------------------\u001b[0m",
      "\u001b[0;31mKeyError\u001b[0m                                  Traceback (most recent call last)",
      "\u001b[0;32m<ipython-input-20-edc9cc87f6b4>\u001b[0m in \u001b[0;36m<module>\u001b[0;34m\u001b[0m\n\u001b[0;32m----> 1\u001b[0;31m \u001b[0mprint\u001b[0m\u001b[0;34m(\u001b[0m\u001b[0mfave_sports\u001b[0m\u001b[0;34m[\u001b[0m\u001b[0;34m\"karen\"\u001b[0m\u001b[0;34m]\u001b[0m\u001b[0;34m)\u001b[0m\u001b[0;34m\u001b[0m\u001b[0;34m\u001b[0m\u001b[0m\n\u001b[0m",
      "\u001b[0;31mKeyError\u001b[0m: 'karen'"
     ]
    }
   ],
   "source": [
    "print(fave_sports[\"karen\"])"
   ]
  },
  {
   "cell_type": "markdown",
   "metadata": {},
   "source": [
    "**^^See?  KeyError.  Get( ) changes all that b/c it sets a default value that is returned if the requested key doesn't exist**"
   ]
  },
  {
   "cell_type": "code",
   "execution_count": 21,
   "metadata": {},
   "outputs": [
    {
     "name": "stdout",
     "output_type": "stream",
     "text": [
      "boxing\n",
      "Sorry.  Didn't interview Karen.\n"
     ]
    }
   ],
   "source": [
    "karen = fave_sports.get(\"karen\", \"Sorry.  Didn't interview Karen.\")\n",
    "\n",
    "# If someone wants to find out Karen's favorite sport, they'll get the value 'Sorry.  Didn't interview Karen.'\n",
    "\n",
    "print(adam)\n",
    "print(karen)"
   ]
  },
  {
   "cell_type": "markdown",
   "metadata": {},
   "source": [
    "### Exercises\n",
    "\n",
    "**1.) Make a dictionary about a friend.  Someone you know about who presumably won't shut up about themselves**"
   ]
  },
  {
   "cell_type": "code",
   "execution_count": 22,
   "metadata": {},
   "outputs": [
    {
     "name": "stdout",
     "output_type": "stream",
     "text": [
      "{'job': 'financial planner', 'hair': 'bald', 'education': 'University of Texas', 'favorite_sport': 'BJJ'}\n"
     ]
    }
   ],
   "source": [
    "doug = {\"job\" : \"financial planner\", \"hair\" : \"bald\", \"education\" : \"University of Texas\", \"favorite_sport\" : \"BJJ\"}\n",
    "\n",
    "print(doug)"
   ]
  },
  {
   "cell_type": "code",
   "execution_count": 23,
   "metadata": {},
   "outputs": [
    {
     "name": "stdout",
     "output_type": "stream",
     "text": [
      "financial planner\n",
      "bald\n",
      "University of Texas\n",
      "BJJ\n"
     ]
    }
   ],
   "source": [
    "print(doug[\"job\"])\n",
    "print(doug[\"hair\"])\n",
    "print(doug[\"education\"])\n",
    "print(doug[\"favorite_sport\"])"
   ]
  },
  {
   "cell_type": "markdown",
   "metadata": {},
   "source": [
    "**2.) Think of five people and their favorite vehicle, then print out each person and their corresponding favorite vehicle**"
   ]
  },
  {
   "cell_type": "code",
   "execution_count": 24,
   "metadata": {},
   "outputs": [
    {
     "name": "stdout",
     "output_type": "stream",
     "text": [
      "Doug's favorite car is a bicycle.\n",
      "April would LOVE a tesla.\n",
      "Mizzio brags about blowing out the speakers on his audi_a4.\n",
      "Sir Mix-A-Lot loves his hooptie because it fits big butts.\n",
      "Thomas hates trains but loves trucks.\n"
     ]
    }
   ],
   "source": [
    "cars = {\"doug\" : \"bicycle\", \"april\" : \"tesla\", \"mizzio\" : \"audi_a4\", \"sir_mix_alot\" : \"hooptie\", \"thomas\" : \"truck\"}\n",
    "\n",
    "print(f\"Doug's favorite car is a {cars['doug']}.\")\n",
    "print(f\"April would LOVE a {cars['april']}.\")\n",
    "print(f\"Mizzio brags about blowing out the speakers on his {cars['mizzio']}.\")\n",
    "print(f\"Sir Mix-A-Lot loves his {cars['sir_mix_alot']} because it fits big butts.\")\n",
    "print(f\"Thomas hates trains but loves {cars['thomas']}s.\")\n",
    "\n",
    "\n"
   ]
  },
  {
   "cell_type": "markdown",
   "metadata": {},
   "source": [
    "**3a). Make a glossary of five Python words I've learned and store their meanings as values**"
   ]
  },
  {
   "cell_type": "code",
   "execution_count": 25,
   "metadata": {},
   "outputs": [],
   "source": [
    "py_gloss = {\"boolean\" : \"True or False\", \"tuple\" : \"immutable list\", \"index error\" : \"not in the list where you said it was\",\n",
    "           \"pop\" : \"removes something from the end of a list\", \"append\" : \"adds something to the end of a list\"}"
   ]
  },
  {
   "cell_type": "markdown",
   "metadata": {},
   "source": [
    "**3b.) Print each word and its meaning in a neatly formatted list**"
   ]
  },
  {
   "cell_type": "code",
   "execution_count": 26,
   "metadata": {},
   "outputs": [
    {
     "name": "stdout",
     "output_type": "stream",
     "text": [
      "Boolean means True or False.\n",
      "A Tuple is an immutable list.\n",
      "An Index Error tells you something is not in the list where you said it was.\n",
      "'Pop' removes something from the end of a list.\n",
      "To Append something means adds something to the end of a list.\n"
     ]
    }
   ],
   "source": [
    "print(f\"Boolean means {py_gloss['boolean']}.\")\n",
    "print(f\"A Tuple is an {py_gloss['tuple']}.\")\n",
    "print(f\"An Index Error tells you something is {py_gloss['index error']}.\")\n",
    "print(f\"'Pop' {py_gloss['pop']}.\")\n",
    "print(f\"To Append something means {py_gloss['append']}.\")"
   ]
  },
  {
   "cell_type": "markdown",
   "metadata": {},
   "source": [
    "### Loop-de-loops\n",
    "\n",
    "- Dictionaries can be small (like above) or immense (NOT like above)\n",
    "\n",
    "- You can loop through all the k-v pairs, just the k's, or just the v's\n",
    "\n",
    "**Looping through k-v pairs**\n",
    "\n",
    "- good for dictionaries that have the same types of v's for many types of k's\n",
    "\n",
    "- for example, a dictionary that stores information about a user on a website\n",
    "\n",
    "**Method for looping through keys and values in dictionaries:**\n",
    "\n",
    "**.items() = returns a list of key-value pairs - \"for k, v in dictionary.items():\"\n",
    "\n",
    "**this will loop through all the keys and values, returning a list of both**"
   ]
  },
  {
   "cell_type": "code",
   "execution_count": 27,
   "metadata": {},
   "outputs": [
    {
     "name": "stdout",
     "output_type": "stream",
     "text": [
      "\n",
      "Key = Username\n",
      "Value = Billyjoe\n",
      "\n",
      "Key = Last_Name\n",
      "Value = Jack\n",
      "\n",
      "Key = Email\n",
      "Value = Billy@Joes.Com\n"
     ]
    }
   ],
   "source": [
    "user_1 = {\"username\" : \"billyjoe\", \"last_name\": \"jack\", \"email\" : \"billy@joes.com\",}\n",
    "\n",
    "# loop to see the values:\n",
    "\n",
    "for k, v in user_1.items():\n",
    "    print(f\"\\nKey = {k.title()}\")\n",
    "    print(f\"Value = {v.title()}\")"
   ]
  },
  {
   "cell_type": "markdown",
   "metadata": {},
   "source": [
    "**And I can name the k and v anything I want to, so long as I'm consistent:**"
   ]
  },
  {
   "cell_type": "code",
   "execution_count": 28,
   "metadata": {},
   "outputs": [
    {
     "name": "stdout",
     "output_type": "stream",
     "text": [
      "\n",
      "Key: User_Name\n",
      "Value: Billthecat\n",
      "\n",
      "Key: Last_Name\n",
      "Value: Doonesbury\n",
      "\n",
      "Key: Email\n",
      "Value: Bill@Ack.Com\n"
     ]
    }
   ],
   "source": [
    "user_2 = {\"user_name\" : \"billthecat\", \"last_name\" : \"doonesbury\", \"email\" : \"bill@ack.com\",}\n",
    "\n",
    "for beep, boop in user_2.items():\n",
    "    print(f\"\\nKey: {beep.title()}\")\n",
    "    print(f\"Value: {boop.title()}\")"
   ]
  },
  {
   "cell_type": "markdown",
   "metadata": {},
   "source": [
    "**Just try to keep the k, v variables consistent with what is in the dictionary:**"
   ]
  },
  {
   "cell_type": "code",
   "execution_count": 29,
   "metadata": {},
   "outputs": [
    {
     "name": "stdout",
     "output_type": "stream",
     "text": [
      "Keys are names = Jen\n",
      "Values are lingos = Python\n",
      "Keys are names = Sarah\n",
      "Values are lingos = Objective-C\n",
      "Keys are names = Edward\n",
      "Values are lingos = Java\n",
      "Keys are names = Phil\n",
      "Values are lingos = Ruby\n"
     ]
    }
   ],
   "source": [
    "fave_complingos = {\"jen\" : \"python\", \"sarah\" : \"objective-C\", \"edward\" : \"java\" , \"phil\" : \"ruby\"}\n",
    "\n",
    "for name, lingo in fave_complingos.items():\n",
    "    print(f\"Keys are names = {name.title()}\")\n",
    "    print(f\"Values are lingos = {lingo.title()}\")"
   ]
  },
  {
   "cell_type": "markdown",
   "metadata": {},
   "source": [
    "**Looping throught all the *KEYS* in a dictionary:**\n",
    "\n",
    "**Method for looping through all the keys in a dictionary: .keys() - \"for k in dictionary.keys(): \"**"
   ]
  },
  {
   "cell_type": "code",
   "execution_count": 30,
   "metadata": {},
   "outputs": [
    {
     "name": "stdout",
     "output_type": "stream",
     "text": [
      "Keys are names = Jen\n",
      "Keys are names = Sarah\n",
      "Keys are names = Edward\n",
      "Keys are names = Phil\n"
     ]
    }
   ],
   "source": [
    "# Now watch what happens when we use '.keys()' method on 'fave_complingos' dictionary:\n",
    "\n",
    "for name in fave_complingos.keys():\n",
    "    print(f\"Keys are names = {name.title()}\")"
   ]
  },
  {
   "cell_type": "markdown",
   "metadata": {},
   "source": [
    "**Say we want to sort the names in fave_complingos.  We'd change the format string - get rid of it, really - then use the 'sorted()' function.  We'd wrap the '.keys()' method within that function:**"
   ]
  },
  {
   "cell_type": "code",
   "execution_count": 31,
   "metadata": {},
   "outputs": [
    {
     "name": "stdout",
     "output_type": "stream",
     "text": [
      "Edward\n",
      "Jen\n",
      "Phil\n",
      "Sarah\n"
     ]
    }
   ],
   "source": [
    "for name in sorted(fave_complingos.keys()):\n",
    "    print(name.title())"
   ]
  },
  {
   "cell_type": "markdown",
   "metadata": {},
   "source": [
    "**Now, the conditional for loop stuff: Let's say we loop through the list, and print out a special message if their favorite language is Python:**"
   ]
  },
  {
   "cell_type": "code",
   "execution_count": 32,
   "metadata": {},
   "outputs": [
    {
     "name": "stdout",
     "output_type": "stream",
     "text": [
      "Aloha, Jen!  So, I see Python's your favorite programming language?\n",
      "Hello, Sarah, and thanks for playing!\n",
      "Hello, Edward, and thanks for playing!\n",
      "Hello, Phil, and thanks for playing!\n"
     ]
    }
   ],
   "source": [
    "for name in fave_complingos.keys():\n",
    "    if name == \"jen\":\n",
    "        print(f\"Aloha, {name.title()}!  So, I see Python's your favorite programming language?\")\n",
    "    else:\n",
    "        print(f\"Hello, {name.title()}, and thanks for playing!\")"
   ]
  },
  {
   "cell_type": "code",
   "execution_count": 33,
   "metadata": {},
   "outputs": [
    {
     "name": "stdout",
     "output_type": "stream",
     "text": [
      "Aloha, Jen!  So glad you didn't choose Java.\n",
      "Aloha, Sarah!  So glad you didn't choose Java.\n",
      "What the Hell, Edward?  You like Java?  Get outta here!!\n",
      "Aloha, Phil!  So glad you didn't choose Java.\n"
     ]
    }
   ],
   "source": [
    "for name in fave_complingos.keys():\n",
    "    if name == \"edward\":\n",
    "        print(f\"What the Hell, {name.title()}?  You like Java?  Get outta here!!\")\n",
    "    else:\n",
    "        print(f\"Aloha, {name.title()}!  So glad you didn't choose Java.\")"
   ]
  },
  {
   "cell_type": "markdown",
   "metadata": {},
   "source": [
    "**To loop through the values and not the keys, use the '.values()' method instead of (or just like) the '.keys()' method:**"
   ]
  },
  {
   "cell_type": "code",
   "execution_count": 34,
   "metadata": {},
   "outputs": [
    {
     "name": "stdout",
     "output_type": "stream",
     "text": [
      "Oh, Python?  Nice choice!\n",
      "What??? You like Objective-C???  You must LOVE computers, crazy person!\n",
      "Ugh.  Java dude?  Love reading those error reports, huh?\n",
      "Oh, Ruby?  Nice choice!\n"
     ]
    }
   ],
   "source": [
    "for lingo in fave_complingos.values():\n",
    "    if lingo == \"objective-C\":\n",
    "        print(f\"What??? You like {lingo.title()}???  You must LOVE computers, crazy person!\")\n",
    "    elif lingo == \"java\":\n",
    "        print(f\"Ugh.  {lingo.title()} dude?  Love reading those error reports, huh?\")\n",
    "    else:\n",
    "        print(f\"Oh, {lingo.title()}?  Nice choice!\")"
   ]
  },
  {
   "cell_type": "markdown",
   "metadata": {},
   "source": [
    "**But say there are a bunch of values that are similar.  If you don't want to repeat any of them in your return, use a 'set' -  A 'set' only returns unique values.  A set LOOKS like a dictionary in that it has braces around it, but it DOES NOT have 'key' : 'value' pairs:**"
   ]
  },
  {
   "cell_type": "code",
   "execution_count": 35,
   "metadata": {},
   "outputs": [
    {
     "name": "stdout",
     "output_type": "stream",
     "text": [
      "{1, 2, 3, 4, 5, 6}\n"
     ]
    }
   ],
   "source": [
    "ten_rolls = {1, 3, 2, 3, 4, 5, 6, 4, 3, 2}\n",
    "\n",
    "# get the unique roll numbers from ten_rolls:\n",
    "\n",
    "print(ten_rolls)"
   ]
  },
  {
   "cell_type": "markdown",
   "metadata": {},
   "source": [
    "### Mas Ejercicios:\n",
    "\n",
    "**4.) Redo numbers 3a and 3b from above.  replace the series of print statements with a loop that runs through all the keys and values of the dictionary.  Then add five more glossary terms to the list and make sure they're output along with the original five using the same loop**"
   ]
  },
  {
   "cell_type": "code",
   "execution_count": 36,
   "metadata": {},
   "outputs": [
    {
     "name": "stdout",
     "output_type": "stream",
     "text": [
      "Boolean means True Or False.\n",
      "Tuple means Immutable List.\n",
      "Index Error means Not In The List Where You Said It Was.\n",
      "Pop means Removes Something From The End Of A List.\n",
      "Append means Adds Something To The End Of A List.\n"
     ]
    }
   ],
   "source": [
    "# Original Dictionary:\n",
    "\n",
    "# py_gloss = {\"boolean\" : \"True or False\", \"tuple\" : \"immutable list\", \"index error\" : \"not in the list where you said it was\",\n",
    "#            \"pop\" : \"removes something from the end of a list\", \"append\" : \"adds something to the end of a list\"}\n",
    "\n",
    "# Original print statements:\n",
    "\n",
    "# print(f\"Boolean means {py_gloss['boolean']}.\")\n",
    "# print(f\"A Tuple is an {py_gloss['tuple']}.\")\n",
    "# print(f\"An Index Error tells you something is {py_gloss['index error']}.\")\n",
    "# print(f\"'Pop' {py_gloss['pop']}.\")\n",
    "# print(f\"To Append something means {py_gloss['append']}.\")\n",
    "\n",
    "for k, v in py_gloss.items():\n",
    "    print(f\"{k.title()} means {v.title()}.\")\n"
   ]
  },
  {
   "cell_type": "markdown",
   "metadata": {},
   "source": [
    "**Adding k's and v's to the dictionary:**"
   ]
  },
  {
   "cell_type": "code",
   "execution_count": 37,
   "metadata": {},
   "outputs": [],
   "source": [
    "py_gloss[\"iterate\"] = \"to go through the entire list one piece at a time\"\n",
    "py_gloss[\"set\"] = \"you are going to get back a list of unique items w/o any repeat values\"\n",
    "py_gloss[\"get\"] = \"you can set a default value for an item not in your list\"\n",
    "py_gloss[\".keys()\"] = \"you are about to search only through the dictionary keys\"\n",
    "py_gloss[\".items()\"] = \"you are about to check through all the keys and values\""
   ]
  },
  {
   "cell_type": "code",
   "execution_count": 39,
   "metadata": {},
   "outputs": [
    {
     "name": "stdout",
     "output_type": "stream",
     "text": [
      "Boolean means True or False.\n",
      "Tuple means immutable list.\n",
      "Index Error means not in the list where you said it was.\n",
      "Pop means removes something from the end of a list.\n",
      "Append means adds something to the end of a list.\n",
      "Iterate means to go through the entire list one piece at a time.\n",
      "Set means you are going to get back a list of unique items w/o any repeat values.\n",
      "Get means you can set a default value for an item not in your list.\n",
      ".Keys() means you are about to search only through the dictionary keys.\n",
      ".Items() means you are about to check through all the keys and values.\n"
     ]
    }
   ],
   "source": [
    "# using the same for loop as before:\n",
    "\n",
    "\n",
    "for k, v in py_gloss.items():\n",
    "    print(f\"{k.title()} means {v}.\")"
   ]
  },
  {
   "cell_type": "markdown",
   "metadata": {},
   "source": [
    "**5a.) Make a dictionary of state capitals**  "
   ]
  },
  {
   "cell_type": "code",
   "execution_count": 42,
   "metadata": {},
   "outputs": [
    {
     "name": "stdout",
     "output_type": "stream",
     "text": [
      "{'texas': 'austin', 'new york': 'albany', 'california': 'sacramento'}\n"
     ]
    }
   ],
   "source": [
    "caps = {\"texas\" : \"austin\", \"new york\" : \"albany\", \"california\" : \"sacramento\"}\n",
    "print(caps)"
   ]
  },
  {
   "cell_type": "markdown",
   "metadata": {},
   "source": [
    "**5b.) Use a loop to print a sentence about each capital**"
   ]
  },
  {
   "cell_type": "code",
   "execution_count": 46,
   "metadata": {},
   "outputs": [
    {
     "name": "stdout",
     "output_type": "stream",
     "text": [
      "Austin is the capital of Texas.\n",
      "Albany is the capital of New York.\n",
      "Sacramento is the capital of California.\n"
     ]
    }
   ],
   "source": [
    "for v, k in caps.items(): \n",
    "    print(f\"{k.title()} is the capital of {v.title()}.\")"
   ]
  },
  {
   "cell_type": "markdown",
   "metadata": {},
   "source": [
    "**5c.) Use a loop to print the name of each state in the dictionary**"
   ]
  },
  {
   "cell_type": "code",
   "execution_count": 52,
   "metadata": {},
   "outputs": [
    {
     "name": "stdout",
     "output_type": "stream",
     "text": [
      "Texas\n",
      "New York\n",
      "California\n"
     ]
    }
   ],
   "source": [
    "for state in caps.keys():\n",
    "    print(state.title())"
   ]
  },
  {
   "cell_type": "markdown",
   "metadata": {},
   "source": [
    "**5d.) Use a loop to print each city in the dictionary**"
   ]
  },
  {
   "cell_type": "code",
   "execution_count": 53,
   "metadata": {},
   "outputs": [
    {
     "name": "stdout",
     "output_type": "stream",
     "text": [
      "Austin\n",
      "Albany\n",
      "Sacramento\n"
     ]
    }
   ],
   "source": [
    "for city in caps.values():\n",
    "    print(city.title())"
   ]
  },
  {
   "cell_type": "markdown",
   "metadata": {},
   "source": [
    "**6a.) Using the 'fave_complingos' dictionary from above, make a list of people who should take the poll, including some of the names of the people who have already taken it**"
   ]
  },
  {
   "cell_type": "code",
   "execution_count": 55,
   "metadata": {},
   "outputs": [],
   "source": [
    "# fave complingos original\n",
    "fave_complingos = {\"jen\" : \"python\", \"sarah\" : \"objective-C\", \"edward\" : \"java\" , \"phil\" : \"ruby\"}\n",
    "\n",
    "ppl_to_interview = [\"bill\", \"jen\", \"gary\", \"april\", \"mia\", \"luci\", \"edward\"]"
   ]
  },
  {
   "cell_type": "markdown",
   "metadata": {},
   "source": [
    "**6b.) Loop through the list of people who should take the poll.  If they've already taken it, tell them 'thanks' for responding.  If not, print a message telling them to take the poll**"
   ]
  },
  {
   "cell_type": "code",
   "execution_count": 61,
   "metadata": {},
   "outputs": [
    {
     "name": "stdout",
     "output_type": "stream",
     "text": [
      "Bill, I'm taking a poll: what's your favorite computer language?\n",
      "Jen, I'm taking a poll: what's your favorite computer language?\n",
      "(You already took this one, Jen - thanks for your response!)\n",
      "Gary, I'm taking a poll: what's your favorite computer language?\n",
      "April, I'm taking a poll: what's your favorite computer language?\n",
      "Mia, I'm taking a poll: what's your favorite computer language?\n",
      "Luci, I'm taking a poll: what's your favorite computer language?\n",
      "Edward, I'm taking a poll: what's your favorite computer language?\n",
      "(You already took this one, Edward - thanks for your response!)\n"
     ]
    }
   ],
   "source": [
    "for ppl in ppl_to_interview:\n",
    "    print(f\"{ppl.title()}, I'm taking a poll: what's your favorite computer language?\")\n",
    "    \n",
    "    if ppl in fave_complingos.keys():\n",
    "        print(f\"(You already took this one, {ppl.title()} - thanks for your response!)\")"
   ]
  },
  {
   "cell_type": "markdown",
   "metadata": {},
   "source": [
    "### OR"
   ]
  },
  {
   "cell_type": "code",
   "execution_count": 62,
   "metadata": {},
   "outputs": [
    {
     "name": "stdout",
     "output_type": "stream",
     "text": [
      "Bill, I'm taking a poll: what's your favorite computer language?\n",
      "(You already took this one, Jen - thanks for your response!)\n",
      "Gary, I'm taking a poll: what's your favorite computer language?\n",
      "April, I'm taking a poll: what's your favorite computer language?\n",
      "Mia, I'm taking a poll: what's your favorite computer language?\n",
      "Luci, I'm taking a poll: what's your favorite computer language?\n",
      "(You already took this one, Edward - thanks for your response!)\n"
     ]
    }
   ],
   "source": [
    "for ppl in ppl_to_interview:\n",
    "    if ppl in fave_complingos.keys():\n",
    "        print(f\"(You already took this one, {ppl.title()} - thanks for your response!)\")\n",
    "    else:\n",
    "        print(f\"{ppl.title()}, I'm taking a poll: what's your favorite computer language?\")"
   ]
  },
  {
   "cell_type": "markdown",
   "metadata": {},
   "source": [
    "### Nesting:\n",
    "\n",
    "- storing dictionaries in lists\n",
    "\n",
    "- storing lists in dictionaries\n",
    "\n",
    "- storing dictionaries... wait for it... IN DICTIONARIES\n",
    "\n",
    "**List of dictionaries:**\n",
    "    \n",
    "    - say you have a fleet of aliens that you have to keep track of for a game (foreshadowing, anyone?)\n",
    "    - well, each alien will have its own color, speed, and point value. \n",
    "    "
   ]
  },
  {
   "cell_type": "code",
   "execution_count": 78,
   "metadata": {},
   "outputs": [
    {
     "name": "stdout",
     "output_type": "stream",
     "text": [
      "{'color': 'green', 'points': 5}\n",
      "{'color': 'yellow', 'points': 10}\n",
      "{'color': 'red', 'points': 15}\n"
     ]
    }
   ],
   "source": [
    "# dictionaries of three different aliens:\n",
    "\n",
    "alien_0 = {\"color\" : \"green\", \"points\" : 5} # dictionary_1\n",
    "alien_1 = {\"color\" : \"yellow\", \"points\" : 10} # dictionary_2\n",
    "alien_2 = {\"color\" : \"red\", \"points\" : 15} # dictionary_3\n",
    "\n",
    "# List of dictionaries:\n",
    "\n",
    "all_aliens = [alien_0, alien_1, alien_2] # same as all_dictionaries = [dictionary_1, dictionary_2, dictionary_3]\n",
    "\n",
    "for alien in all_aliens:\n",
    "    print(alien)"
   ]
  },
  {
   "cell_type": "markdown",
   "metadata": {},
   "source": [
    "**BUT:**\n",
    "    - A fleet of three sucks!  We need more aliens.  If we want 30 aliens, do we want to write this code for each and every one of them?\n",
    "    \n",
    "    - Nope!  That's why we use ranges and for loops - to generate the code for us:"
   ]
  },
  {
   "cell_type": "code",
   "execution_count": 79,
   "metadata": {},
   "outputs": [
    {
     "name": "stdout",
     "output_type": "stream",
     "text": [
      "{'color': 'green', 'points': 5, 'speed': 'slow'}\n",
      "{'color': 'green', 'points': 5, 'speed': 'slow'}\n",
      "{'color': 'green', 'points': 5, 'speed': 'slow'}\n",
      "{'color': 'green', 'points': 5, 'speed': 'slow'}\n",
      "{'color': 'green', 'points': 5, 'speed': 'slow'}\n",
      "There's more here; this is just a check.\n",
      "Actually, there is a total of 30 aliens in total.\n"
     ]
    }
   ],
   "source": [
    "# Step_1.) Make a list to store all the aliens\n",
    "\n",
    "all_aliens = []\n",
    "\n",
    "# Step_2.) Make 30 green aliens\n",
    "\n",
    "for alien_number in range(30): # tells how many times we want the loop to repeat, each run makes a new alien\n",
    "    new_alien = {\"color\" : \"green\", \"points\" : 5, \"speed\" : \"slow\"}\n",
    "    all_aliens.append(new_alien)\n",
    "\n",
    "# Step_3.) Check work - take a look at the first five aliens\n",
    "\n",
    "for alien in all_aliens[:5]: # \"for the first five aliens\"\n",
    "    print(alien) # \"print the details\"\n",
    "print(\"There's more here; this is just a check.\")\n",
    "\n",
    "# Step_4.) Check to see that the thirty aliens you wanted to create are created\n",
    "\n",
    "print(f\"Actually, there is a total of {len(all_aliens)} aliens in total.\")"
   ]
  },
  {
   "cell_type": "markdown",
   "metadata": {},
   "source": [
    "**While each of the above aliens has the same characteristics, *Python considers them to be separate objects.*  Therefore, we can modify each alien individually.**"
   ]
  },
  {
   "cell_type": "code",
   "execution_count": 80,
   "metadata": {},
   "outputs": [
    {
     "name": "stdout",
     "output_type": "stream",
     "text": [
      "[{'color': 'yellow', 'points': 10, 'speed': 'medium'}, {'color': 'yellow', 'points': 10, 'speed': 'medium'}, {'color': 'yellow', 'points': 10, 'speed': 'medium'}, {'color': 'green', 'points': 5, 'speed': 'slow'}, {'color': 'green', 'points': 5, 'speed': 'slow'}]\n"
     ]
    }
   ],
   "source": [
    "# note format for changing the dictionay k / v: \"variable['existing_key'] = 'new_value'\"\n",
    "\n",
    "for alien in all_aliens[:3]: # saying \"change the first three aliens to the following:\"\n",
    "    if alien[\"color\"] == \"green\":\n",
    "        alien[\"color\"] = \"yellow\"\n",
    "        alien[\"points\"] = 10\n",
    "        alien[\"speed\"] = \"medium\"\n",
    "\n",
    "print(all_aliens[:5])    "
   ]
  },
  {
   "cell_type": "code",
   "execution_count": 81,
   "metadata": {},
   "outputs": [],
   "source": [
    "# adding an elif block:\n",
    "\n",
    "# for alien in all_aliens[:3]: # saying \"change the first three aliens to the following:\"\n",
    "#     if alien[\"color\"] == \"green\":\n",
    "#         alien[\"color\"] = \"yellow\"\n",
    "#         alien[\"points\"] = 10\n",
    "#         alien[\"speed\"] = \"medium\"\n",
    "#     elif alien[\"color\"] == \"yellow\":\n",
    "#         alien[\"color\"] = \"red\"\n",
    "#         alien[\"points\"] = 10\n",
    "#         alien[\"speed\"] = \"fast\"\n",
    "\n",
    "# print(all_aliens[:5])\n",
    "\n",
    "# Commented out this entire cell b/c all the 'elif' block did was change the 'yellows' to 'reds.' \n",
    "# It's just included to preserve the integrity of the examples / exercises in the book"
   ]
  },
  {
   "cell_type": "markdown",
   "metadata": {},
   "source": [
    "**You store dictionaries in a list when you each dictionary contains many kinds of information about one object.**\n",
    "\n",
    "For example:\n",
    "    \n",
    "   - a dictionary for each user on a website.  Each individual dictionary would be in a list called 'users'\n",
    "    \n",
    "   - each dictionary would have the same keys and values in it (username, email, etc.), so you could just loop through the list"
   ]
  },
  {
   "cell_type": "markdown",
   "metadata": {},
   "source": [
    "**List IN a Dictionary** \n",
    "\n",
    "- Good for when there are multiple details about something, like a book:\n",
    "    \n",
    "    - book = {\"cover\" : [\"hardcover\", \"paperback\"],\"topic\" : [\"humor\", \"horror\", \"romance\", \"history\"],\"langauge\" : [\"english\", \"spanish\", \"french\"],}\n",
    "    \n",
    "**In fact, let's start playing around with the variable 'book:'**"
   ]
  },
  {
   "cell_type": "code",
   "execution_count": 102,
   "metadata": {},
   "outputs": [],
   "source": [
    "book = {\"covers\" : [\"hardcover\", \"paperback\"], \n",
    "        \"topics\" : [\"humor\", \"horror\", \"romance\", \"history\"],\n",
    "        \"language\" : \"english\",}"
   ]
  },
  {
   "cell_type": "code",
   "execution_count": 103,
   "metadata": {},
   "outputs": [
    {
     "name": "stdout",
     "output_type": "stream",
     "text": [
      "['hardcover', 'paperback']\n",
      "['humor', 'horror', 'romance', 'history']\n",
      "english\n"
     ]
    }
   ],
   "source": [
    "print(book[\"covers\"])\n",
    "print(book[\"topics\"])\n",
    "print(book[\"language\"])"
   ]
  },
  {
   "cell_type": "code",
   "execution_count": 104,
   "metadata": {},
   "outputs": [
    {
     "name": "stdout",
     "output_type": "stream",
     "text": [
      "covers\n",
      "topics\n",
      "language\n"
     ]
    }
   ],
   "source": [
    "# What are the keys in the dictionary?\n",
    "\n",
    "for k in book.keys():\n",
    "    print(k)"
   ]
  },
  {
   "cell_type": "code",
   "execution_count": 105,
   "metadata": {},
   "outputs": [
    {
     "name": "stdout",
     "output_type": "stream",
     "text": [
      "['hardcover', 'paperback']\n",
      "['humor', 'horror', 'romance', 'history']\n",
      "english\n"
     ]
    }
   ],
   "source": [
    "# what are the values in the dictionary?\n",
    "\n",
    "for v in book.values():\n",
    "    print(v)"
   ]
  },
  {
   "cell_type": "code",
   "execution_count": null,
   "metadata": {},
   "outputs": [],
   "source": []
  }
 ],
 "metadata": {
  "kernelspec": {
   "display_name": "Python 3",
   "language": "python",
   "name": "python3"
  },
  "language_info": {
   "codemirror_mode": {
    "name": "ipython",
    "version": 3
   },
   "file_extension": ".py",
   "mimetype": "text/x-python",
   "name": "python",
   "nbconvert_exporter": "python",
   "pygments_lexer": "ipython3",
   "version": "3.7.4"
  }
 },
 "nbformat": 4,
 "nbformat_minor": 2
}
