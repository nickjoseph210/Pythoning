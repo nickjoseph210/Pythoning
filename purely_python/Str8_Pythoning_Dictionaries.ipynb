{
 "cells": [
  {
   "cell_type": "markdown",
   "metadata": {},
   "source": [
    "## Dictionaries\n",
    "\n",
    "- keys and values\n",
    "\n",
    "- great to have a mastery of when dealing with json files and APIs\n",
    "\n",
    "- simple format is {\"key\" : \"value\"}"
   ]
  },
  {
   "cell_type": "code",
   "execution_count": 1,
   "metadata": {},
   "outputs": [
    {
     "data": {
      "text/plain": [
       "'green'"
      ]
     },
     "execution_count": 1,
     "metadata": {},
     "output_type": "execute_result"
    }
   ],
   "source": [
    "# simple \n",
    "\n",
    "alien_0 = {\"color\" : \"green\", \"points\" : 5}\n",
    "\n",
    "alien_0[\"color\"]"
   ]
  },
  {
   "cell_type": "code",
   "execution_count": 2,
   "metadata": {},
   "outputs": [
    {
     "data": {
      "text/plain": [
       "5"
      ]
     },
     "execution_count": 2,
     "metadata": {},
     "output_type": "execute_result"
    }
   ],
   "source": [
    "alien_0[\"points\"]"
   ]
  },
  {
   "cell_type": "code",
   "execution_count": 3,
   "metadata": {},
   "outputs": [
    {
     "name": "stdout",
     "output_type": "stream",
     "text": [
      "{'color': 'green', 'points': 5}\n"
     ]
    }
   ],
   "source": [
    "print(alien_0)"
   ]
  },
  {
   "cell_type": "code",
   "execution_count": 4,
   "metadata": {},
   "outputs": [
    {
     "name": "stdout",
     "output_type": "stream",
     "text": [
      "color\n",
      "points\n"
     ]
    }
   ],
   "source": [
    "for key in alien_0:\n",
    "    print(key)"
   ]
  },
  {
   "cell_type": "code",
   "execution_count": 5,
   "metadata": {},
   "outputs": [
    {
     "name": "stdout",
     "output_type": "stream",
     "text": [
      "green\n"
     ]
    }
   ],
   "source": [
    "print(alien_0[\"color\"])"
   ]
  },
  {
   "cell_type": "code",
   "execution_count": 6,
   "metadata": {},
   "outputs": [
    {
     "name": "stdout",
     "output_type": "stream",
     "text": [
      "5\n"
     ]
    }
   ],
   "source": [
    "print(alien_0[\"points\"])"
   ]
  },
  {
   "cell_type": "code",
   "execution_count": 7,
   "metadata": {},
   "outputs": [
    {
     "name": "stdout",
     "output_type": "stream",
     "text": [
      "yellow\n"
     ]
    }
   ],
   "source": [
    "# expanded\n",
    "\n",
    "alien_0 = {\"color\" : \"green\", \"points\" : 5}\n",
    "alien_1 = {\"color\" : \"yellow\", \"points\" : 10}\n",
    "alien_2 = {\"color\" : \"red\", \"points\" : 15}\n",
    "\n",
    "print(alien_1[\"color\"])"
   ]
  },
  {
   "cell_type": "code",
   "execution_count": 8,
   "metadata": {},
   "outputs": [
    {
     "name": "stdout",
     "output_type": "stream",
     "text": [
      "15\n"
     ]
    }
   ],
   "source": [
    "print(alien_2[\"points\"])"
   ]
  },
  {
   "cell_type": "markdown",
   "metadata": {},
   "source": [
    "**Now pretend the player shoots down the alien.  Keep track of the points in a new list:**"
   ]
  },
  {
   "cell_type": "code",
   "execution_count": 9,
   "metadata": {},
   "outputs": [
    {
     "name": "stdout",
     "output_type": "stream",
     "text": [
      "A yellow alien!  You just scored 10 points!\n",
      "Ugh!  We hate green aliens!  You nailed that sucker for 5 points!\n",
      "Boom: red!  15 points for that mofo!\n"
     ]
    }
   ],
   "source": [
    "first_points = alien_1[\"points\"]\n",
    "second_points = alien_0[\"points\"]\n",
    "third_points = alien_2[\"points\"]\n",
    "\n",
    "\n",
    "print(f\"A {alien_1['color']} alien!  You just scored {first_points} points!\")\n",
    "print(f\"Ugh!  We hate {alien_0['color']} aliens!  You nailed that sucker for {second_points} points!\")\n",
    "print(f\"Boom: {alien_2['color']}!  {third_points} points for that mofo!\")"
   ]
  },
  {
   "cell_type": "markdown",
   "metadata": {},
   "source": [
    "**Formula for accessing the info within a dictionary is:**\n",
    "    \n",
    "    - dictionary_name [ 'key_I_am_looking_for']"
   ]
  },
  {
   "cell_type": "markdown",
   "metadata": {},
   "source": [
    "**Adding new Key-Value pairs:**\n",
    "    \n",
    "    - dictionary_name ['what_I_want_new_key_to_be_called'] = value_of_this_new_key"
   ]
  },
  {
   "cell_type": "code",
   "execution_count": 10,
   "metadata": {},
   "outputs": [
    {
     "name": "stdout",
     "output_type": "stream",
     "text": [
      "{'color': 'yellow', 'points': 10}\n"
     ]
    }
   ],
   "source": [
    "print(alien_1)"
   ]
  },
  {
   "cell_type": "code",
   "execution_count": 11,
   "metadata": {},
   "outputs": [],
   "source": [
    "alien_1[\"weight\"] = \"800 pounds\"\n",
    "alien_1[\"speed\"] = \"40 miles per hour\""
   ]
  },
  {
   "cell_type": "code",
   "execution_count": 12,
   "metadata": {},
   "outputs": [
    {
     "name": "stdout",
     "output_type": "stream",
     "text": [
      "{'color': 'yellow', 'points': 10, 'weight': '800 pounds', 'speed': '40 miles per hour'}\n"
     ]
    }
   ],
   "source": [
    "print(alien_1)"
   ]
  },
  {
   "cell_type": "markdown",
   "metadata": {},
   "source": [
    "**Starting with an empty dictionary and filling values into it is the same format as adding values to existing dictionaries:**\n",
    "\n",
    "    - new_name = {}\n",
    "    \n",
    "    - new_name[\"what_I_want_the_key_to_be_called\"] = \"value_of _this_new_key\"\n",
    " "
   ]
  },
  {
   "cell_type": "code",
   "execution_count": 13,
   "metadata": {},
   "outputs": [
    {
     "name": "stdout",
     "output_type": "stream",
     "text": [
      "{'What': 'New dictionary', 'Why': 'Trying to understand dictionaries better'}\n"
     ]
    }
   ],
   "source": [
    "new_dictionary = {}\n",
    "\n",
    "new_dictionary[\"What\"] = \"New dictionary\"\n",
    "\n",
    "new_dictionary[\"Why\"] = \"Trying to understand dictionaries better\"\n",
    "\n",
    "print(new_dictionary)"
   ]
  },
  {
   "cell_type": "markdown",
   "metadata": {},
   "source": [
    "**Format to *modify* values in a dictionary:**\n",
    "    \n",
    "    - dictionary_name [\"existing_key_name\"] = \"new_value_for_that_key\"\n",
    "    \n",
    "    - it's just like assigning a new value to an existing variable."
   ]
  },
  {
   "cell_type": "markdown",
   "metadata": {},
   "source": [
    "**REMOVING key-value pairs:**\n",
    "    \n",
    "    - 'del' statement completely removes the k-v pair\n",
    "    \n",
    "        = del dictionary_name [\"key_I_want_deleted\"]"
   ]
  },
  {
   "cell_type": "code",
   "execution_count": 14,
   "metadata": {},
   "outputs": [
    {
     "name": "stdout",
     "output_type": "stream",
     "text": [
      "{'What': 'New dictionary', 'Why': 'Trying to understand dictionaries better'}\n"
     ]
    }
   ],
   "source": [
    "print(new_dictionary)"
   ]
  },
  {
   "cell_type": "code",
   "execution_count": 15,
   "metadata": {},
   "outputs": [],
   "source": [
    "del new_dictionary[\"What\"]"
   ]
  },
  {
   "cell_type": "code",
   "execution_count": 16,
   "metadata": {},
   "outputs": [
    {
     "name": "stdout",
     "output_type": "stream",
     "text": [
      "{'Why': 'Trying to understand dictionaries better'}\n"
     ]
    }
   ],
   "source": [
    "print(new_dictionary)"
   ]
  },
  {
   "cell_type": "code",
   "execution_count": 17,
   "metadata": {},
   "outputs": [],
   "source": [
    "del new_dictionary[\"Why\"]"
   ]
  },
  {
   "cell_type": "code",
   "execution_count": 18,
   "metadata": {},
   "outputs": [
    {
     "name": "stdout",
     "output_type": "stream",
     "text": [
      "{}\n"
     ]
    }
   ],
   "source": [
    "print(new_dictionary)"
   ]
  },
  {
   "cell_type": "markdown",
   "metadata": {},
   "source": [
    "**'What if you're taking a poll, though, and want to keep track of different peoples' responses?'  Good question...**"
   ]
  },
  {
   "cell_type": "code",
   "execution_count": 19,
   "metadata": {},
   "outputs": [
    {
     "name": "stdout",
     "output_type": "stream",
     "text": [
      "Adam's favorite sport is boxing.\n"
     ]
    }
   ],
   "source": [
    "fave_sports = {\n",
    "    \"steve\" : \"hunting\", \n",
    "    \"gabby\" : \"running\", \n",
    "    \"michael\" : \"polo\",\n",
    "    \"adam\" : \"boxing\", \n",
    "    \"gina\" : \"football\", # remember to always put a comma after the last key:value pair - it's good practice\n",
    "}\n",
    "\n",
    "adam = fave_sports[\"adam\"] # assign the k:v pair to a variable for easier calling and reading\n",
    "\n",
    "print(f\"Adam's favorite sport is {adam}.\")"
   ]
  },
  {
   "cell_type": "markdown",
   "metadata": {},
   "source": [
    "**Using 'get( )' to pass a value when no value is actually assigned in the dictionary**\n",
    "\n",
    "- Say someone found out I took that poll of favorite sports, and wondered what Kathy's favorite sport was\n",
    "\n",
    "- Well, I didn't interview Kathy.  If that person checks Kathy's favorite sport (using code), they'll get an error message\n",
    "\n",
    "- Well, that's no bueno: what if I write an extensive program that just ends when someone asks it something for which it doesn't have an answer?  They need an answer, and the code needs to keep running, so we use 'get ()'\n",
    "\n",
    "- 'GET()' sets a default value that can return so that the program can keep running\n",
    "\n",
    "        - variable_name = get(\"non_existent_key\", \"value_for_non_existent_key\")"
   ]
  },
  {
   "cell_type": "code",
   "execution_count": 21,
   "metadata": {},
   "outputs": [
    {
     "ename": "KeyError",
     "evalue": "'karen'",
     "output_type": "error",
     "traceback": [
      "\u001b[0;31m---------------------------------------------------------------------------\u001b[0m",
      "\u001b[0;31mKeyError\u001b[0m                                  Traceback (most recent call last)",
      "\u001b[0;32m<ipython-input-21-edc9cc87f6b4>\u001b[0m in \u001b[0;36m<module>\u001b[0;34m\u001b[0m\n\u001b[0;32m----> 1\u001b[0;31m \u001b[0mprint\u001b[0m\u001b[0;34m(\u001b[0m\u001b[0mfave_sports\u001b[0m\u001b[0;34m[\u001b[0m\u001b[0;34m\"karen\"\u001b[0m\u001b[0;34m]\u001b[0m\u001b[0;34m)\u001b[0m\u001b[0;34m\u001b[0m\u001b[0;34m\u001b[0m\u001b[0m\n\u001b[0m",
      "\u001b[0;31mKeyError\u001b[0m: 'karen'"
     ]
    }
   ],
   "source": [
    "print(fave_sports[\"karen\"])"
   ]
  },
  {
   "cell_type": "markdown",
   "metadata": {},
   "source": [
    "**^^See?  KeyError.  Get( ) changes all that b/c it sets a default value that is returned if the requested key doesn't exist**"
   ]
  },
  {
   "cell_type": "code",
   "execution_count": 27,
   "metadata": {},
   "outputs": [
    {
     "name": "stdout",
     "output_type": "stream",
     "text": [
      "boxing\n",
      "Sorry.  Didn't interview Karen.\n"
     ]
    }
   ],
   "source": [
    "karen = fave_sports.get(\"karen\", \"Sorry.  Didn't interview Karen.\")\n",
    "\n",
    "# If someone wants to find out Karen's favorite sport, they'll get the value 'Sorry.  Didn't interview Karen.'\n",
    "\n",
    "print(adam)\n",
    "print(karen)"
   ]
  },
  {
   "cell_type": "markdown",
   "metadata": {},
   "source": [
    "### Exercises\n",
    "\n",
    "**1.) Make a dictionary about a friend.  Someone you know about who presumably won't shut up about themselves**"
   ]
  },
  {
   "cell_type": "code",
   "execution_count": 28,
   "metadata": {},
   "outputs": [
    {
     "name": "stdout",
     "output_type": "stream",
     "text": [
      "{'job': 'financial planner', 'hair': 'bald', 'education': 'University of Texas', 'favorite_sport': 'BJJ'}\n"
     ]
    }
   ],
   "source": [
    "doug = {\"job\" : \"financial planner\", \"hair\" : \"bald\", \"education\" : \"University of Texas\", \"favorite_sport\" : \"BJJ\"}\n",
    "\n",
    "print(doug)"
   ]
  },
  {
   "cell_type": "code",
   "execution_count": 29,
   "metadata": {},
   "outputs": [
    {
     "name": "stdout",
     "output_type": "stream",
     "text": [
      "financial planner\n",
      "bald\n",
      "University of Texas\n",
      "BJJ\n"
     ]
    }
   ],
   "source": [
    "print(doug[\"job\"])\n",
    "print(doug[\"hair\"])\n",
    "print(doug[\"education\"])\n",
    "print(doug[\"favorite_sport\"])"
   ]
  },
  {
   "cell_type": "markdown",
   "metadata": {},
   "source": [
    "**2.) Think of five people and their favorite vehicle, then print out each person and their corresponding favorite vehicle**"
   ]
  },
  {
   "cell_type": "code",
   "execution_count": 37,
   "metadata": {},
   "outputs": [
    {
     "name": "stdout",
     "output_type": "stream",
     "text": [
      "Doug's favorite car is a bicycle.\n",
      "April would LOVE a tesla.\n",
      "Mizzio brags about blowing out the speakers on his audi_a4.\n",
      "Sir Mix-A-Lot loves his hooptie because it fits big butts.\n",
      "Thomas hates trains but loves trucks.\n"
     ]
    }
   ],
   "source": [
    "cars = {\"doug\" : \"bicycle\", \"april\" : \"tesla\", \"mizzio\" : \"audi_a4\", \"sir_mix_alot\" : \"hooptie\", \"thomas\" : \"truck\"}\n",
    "\n",
    "print(f\"Doug's favorite car is a {cars['doug']}.\")\n",
    "print(f\"April would LOVE a {cars['april']}.\")\n",
    "print(f\"Mizzio brags about blowing out the speakers on his {cars['mizzio']}.\")\n",
    "print(f\"Sir Mix-A-Lot loves his {cars['sir_mix_alot']} because it fits big butts.\")\n",
    "print(f\"Thomas hates trains but loves {cars['thomas']}s.\")\n",
    "\n",
    "\n"
   ]
  },
  {
   "cell_type": "markdown",
   "metadata": {},
   "source": [
    "**3a). Make a glossary of five Python words I've learned and store their meanings as values**"
   ]
  },
  {
   "cell_type": "code",
   "execution_count": 41,
   "metadata": {},
   "outputs": [],
   "source": [
    "py_gloss = {\"boolean\" : \"True or False\", \"tuple\" : \"immutable list\", \"index error\" : \"not in the list where you said it was\",\n",
    "           \"pop\" : \"removes something from the end of a list\", \"append\" : \"adds something to the end of a list\"}"
   ]
  },
  {
   "cell_type": "markdown",
   "metadata": {},
   "source": [
    "**3b.) Print each word and its meaning in a neatly formatted list**"
   ]
  },
  {
   "cell_type": "code",
   "execution_count": 42,
   "metadata": {},
   "outputs": [
    {
     "name": "stdout",
     "output_type": "stream",
     "text": [
      "Boolean means True or False.\n",
      "A Tuple is an immutable list.\n",
      "An Index Error tells you something is not in the list where you said it was.\n",
      "'Pop' removes something from the end of a list.\n",
      "To Append something means adds something to the end of a list.\n"
     ]
    }
   ],
   "source": [
    "print(f\"Boolean means {py_gloss['boolean']}.\")\n",
    "print(f\"A Tuple is an {py_gloss['tuple']}.\")\n",
    "print(f\"An Index Error tells you something is {py_gloss['index error']}.\")\n",
    "print(f\"'Pop' {py_gloss['pop']}.\")\n",
    "print(f\"To Append something means {py_gloss['append']}.\")"
   ]
  },
  {
   "cell_type": "code",
   "execution_count": null,
   "metadata": {},
   "outputs": [],
   "source": []
  }
 ],
 "metadata": {
  "kernelspec": {
   "display_name": "Python 3",
   "language": "python",
   "name": "python3"
  },
  "language_info": {
   "codemirror_mode": {
    "name": "ipython",
    "version": 3
   },
   "file_extension": ".py",
   "mimetype": "text/x-python",
   "name": "python",
   "nbconvert_exporter": "python",
   "pygments_lexer": "ipython3",
   "version": "3.7.4"
  }
 },
 "nbformat": 4,
 "nbformat_minor": 2
}
