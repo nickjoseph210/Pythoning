{
 "cells": [
  {
   "cell_type": "markdown",
   "metadata": {},
   "source": [
    "## Dictionaries\n",
    "\n",
    "- keys and values\n",
    "\n",
    "- great to have a mastery of when dealing with json files and APIs\n",
    "\n",
    "- simple format is {\"key\" : \"value\"}"
   ]
  },
  {
   "cell_type": "code",
   "execution_count": 1,
   "metadata": {},
   "outputs": [
    {
     "data": {
      "text/plain": [
       "'green'"
      ]
     },
     "execution_count": 1,
     "metadata": {},
     "output_type": "execute_result"
    }
   ],
   "source": [
    "# simple \n",
    "\n",
    "alien_0 = {\"color\" : \"green\", \"points\" : 5}\n",
    "\n",
    "alien_0[\"color\"]"
   ]
  },
  {
   "cell_type": "code",
   "execution_count": 2,
   "metadata": {},
   "outputs": [
    {
     "data": {
      "text/plain": [
       "5"
      ]
     },
     "execution_count": 2,
     "metadata": {},
     "output_type": "execute_result"
    }
   ],
   "source": [
    "alien_0[\"points\"]"
   ]
  },
  {
   "cell_type": "code",
   "execution_count": 3,
   "metadata": {},
   "outputs": [
    {
     "name": "stdout",
     "output_type": "stream",
     "text": [
      "{'color': 'green', 'points': 5}\n"
     ]
    }
   ],
   "source": [
    "print(alien_0)"
   ]
  },
  {
   "cell_type": "code",
   "execution_count": 4,
   "metadata": {},
   "outputs": [
    {
     "name": "stdout",
     "output_type": "stream",
     "text": [
      "color\n",
      "points\n"
     ]
    }
   ],
   "source": [
    "for key in alien_0:\n",
    "    print(key)"
   ]
  },
  {
   "cell_type": "code",
   "execution_count": 5,
   "metadata": {},
   "outputs": [
    {
     "name": "stdout",
     "output_type": "stream",
     "text": [
      "green\n"
     ]
    }
   ],
   "source": [
    "print(alien_0[\"color\"])"
   ]
  },
  {
   "cell_type": "code",
   "execution_count": 6,
   "metadata": {},
   "outputs": [
    {
     "name": "stdout",
     "output_type": "stream",
     "text": [
      "5\n"
     ]
    }
   ],
   "source": [
    "print(alien_0[\"points\"])"
   ]
  },
  {
   "cell_type": "code",
   "execution_count": 7,
   "metadata": {},
   "outputs": [
    {
     "name": "stdout",
     "output_type": "stream",
     "text": [
      "yellow\n"
     ]
    }
   ],
   "source": [
    "# expanded\n",
    "\n",
    "alien_0 = {\"color\" : \"green\", \"points\" : 5}\n",
    "alien_1 = {\"color\" : \"yellow\", \"points\" : 10}\n",
    "alien_2 = {\"color\" : \"red\", \"points\" : 15}\n",
    "\n",
    "print(alien_1[\"color\"])"
   ]
  },
  {
   "cell_type": "code",
   "execution_count": 8,
   "metadata": {},
   "outputs": [
    {
     "name": "stdout",
     "output_type": "stream",
     "text": [
      "15\n"
     ]
    }
   ],
   "source": [
    "print(alien_2[\"points\"])"
   ]
  },
  {
   "cell_type": "markdown",
   "metadata": {},
   "source": [
    "**Now pretend the player shoots down the alien.  Keep track of the points in a new list:**"
   ]
  },
  {
   "cell_type": "code",
   "execution_count": 9,
   "metadata": {},
   "outputs": [
    {
     "name": "stdout",
     "output_type": "stream",
     "text": [
      "A yellow alien!  You just scored 10 points!\n",
      "Ugh!  We hate green aliens!  You nailed that sucker for 5 points!\n",
      "Boom: red!  15 points for that mofo!\n"
     ]
    }
   ],
   "source": [
    "first_points = alien_1[\"points\"]\n",
    "second_points = alien_0[\"points\"]\n",
    "third_points = alien_2[\"points\"]\n",
    "\n",
    "\n",
    "print(f\"A {alien_1['color']} alien!  You just scored {first_points} points!\")\n",
    "print(f\"Ugh!  We hate {alien_0['color']} aliens!  You nailed that sucker for {second_points} points!\")\n",
    "print(f\"Boom: {alien_2['color']}!  {third_points} points for that mofo!\")"
   ]
  },
  {
   "cell_type": "markdown",
   "metadata": {},
   "source": [
    "**Formula for accessing the info within a dictionary is:**\n",
    "    \n",
    "    - dictionary_name [ 'key_I_am_looking_for']"
   ]
  },
  {
   "cell_type": "markdown",
   "metadata": {},
   "source": [
    "**Adding new Key-Value pairs:**\n",
    "    \n",
    "    - dictionary_name ['what_I_want_new_key_to_be_called'] = value_of_this_new_key"
   ]
  },
  {
   "cell_type": "code",
   "execution_count": 10,
   "metadata": {},
   "outputs": [
    {
     "name": "stdout",
     "output_type": "stream",
     "text": [
      "{'color': 'yellow', 'points': 10}\n"
     ]
    }
   ],
   "source": [
    "print(alien_1)"
   ]
  },
  {
   "cell_type": "code",
   "execution_count": 11,
   "metadata": {},
   "outputs": [],
   "source": [
    "alien_1[\"weight\"] = \"800 pounds\"\n",
    "alien_1[\"speed\"] = \"40 miles per hour\""
   ]
  },
  {
   "cell_type": "code",
   "execution_count": 12,
   "metadata": {},
   "outputs": [
    {
     "name": "stdout",
     "output_type": "stream",
     "text": [
      "{'color': 'yellow', 'points': 10, 'weight': '800 pounds', 'speed': '40 miles per hour'}\n"
     ]
    }
   ],
   "source": [
    "print(alien_1)"
   ]
  },
  {
   "cell_type": "markdown",
   "metadata": {},
   "source": [
    "**Starting with an empty dictionary and filling values into it is the same format as adding values to existing dictionaries:**\n",
    "\n",
    "    - new_name = {}\n",
    "    \n",
    "    - new_name[\"what_I_want_the_key_to_be_called\"] = \"value_of _this_new_key\"\n",
    " "
   ]
  },
  {
   "cell_type": "code",
   "execution_count": 13,
   "metadata": {},
   "outputs": [
    {
     "name": "stdout",
     "output_type": "stream",
     "text": [
      "{'What': 'New dictionary', 'Why': 'Trying to understand dictionaries better'}\n"
     ]
    }
   ],
   "source": [
    "new_dictionary = {}\n",
    "\n",
    "new_dictionary[\"What\"] = \"New dictionary\"\n",
    "\n",
    "new_dictionary[\"Why\"] = \"Trying to understand dictionaries better\"\n",
    "\n",
    "print(new_dictionary)"
   ]
  },
  {
   "cell_type": "markdown",
   "metadata": {},
   "source": [
    "**Format to *modify* values in a dictionary:**\n",
    "    \n",
    "    - dictionary_name [\"existing_key_name\"] = \"new_value_for_that_key\"\n",
    "    \n",
    "    - it's just like assigning a new value to an existing variable."
   ]
  },
  {
   "cell_type": "markdown",
   "metadata": {},
   "source": [
    "**REMOVING key-value pairs:**\n",
    "    \n",
    "    - 'del' statement completely removes the k-v pair\n",
    "    \n",
    "        = del dictionary_name [\"key_I_want_deleted\"]"
   ]
  },
  {
   "cell_type": "code",
   "execution_count": 14,
   "metadata": {},
   "outputs": [
    {
     "name": "stdout",
     "output_type": "stream",
     "text": [
      "{'What': 'New dictionary', 'Why': 'Trying to understand dictionaries better'}\n"
     ]
    }
   ],
   "source": [
    "print(new_dictionary)"
   ]
  },
  {
   "cell_type": "code",
   "execution_count": 15,
   "metadata": {},
   "outputs": [],
   "source": [
    "del new_dictionary[\"What\"]"
   ]
  },
  {
   "cell_type": "code",
   "execution_count": 16,
   "metadata": {},
   "outputs": [
    {
     "name": "stdout",
     "output_type": "stream",
     "text": [
      "{'Why': 'Trying to understand dictionaries better'}\n"
     ]
    }
   ],
   "source": [
    "print(new_dictionary)"
   ]
  },
  {
   "cell_type": "code",
   "execution_count": 17,
   "metadata": {},
   "outputs": [],
   "source": [
    "del new_dictionary[\"Why\"]"
   ]
  },
  {
   "cell_type": "code",
   "execution_count": 18,
   "metadata": {},
   "outputs": [
    {
     "name": "stdout",
     "output_type": "stream",
     "text": [
      "{}\n"
     ]
    }
   ],
   "source": [
    "print(new_dictionary)"
   ]
  },
  {
   "cell_type": "code",
   "execution_count": null,
   "metadata": {},
   "outputs": [],
   "source": []
  }
 ],
 "metadata": {
  "kernelspec": {
   "display_name": "Python 3",
   "language": "python",
   "name": "python3"
  },
  "language_info": {
   "codemirror_mode": {
    "name": "ipython",
    "version": 3
   },
   "file_extension": ".py",
   "mimetype": "text/x-python",
   "name": "python",
   "nbconvert_exporter": "python",
   "pygments_lexer": "ipython3",
   "version": "3.7.4"
  }
 },
 "nbformat": 4,
 "nbformat_minor": 2
}
