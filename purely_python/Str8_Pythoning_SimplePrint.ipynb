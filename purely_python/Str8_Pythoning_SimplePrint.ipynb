{
 "cells": [
  {
   "cell_type": "markdown",
   "metadata": {},
   "source": [
    "## Purpose of this notebook:\n",
    "\n",
    "To get better at Python 3.  "
   ]
  },
  {
   "cell_type": "markdown",
   "metadata": {},
   "source": [
    "### Greetings"
   ]
  },
  {
   "cell_type": "code",
   "execution_count": 1,
   "metadata": {},
   "outputs": [
    {
     "name": "stdout",
     "output_type": "stream",
     "text": [
      "Hello, Everyone!\n"
     ]
    }
   ],
   "source": [
    "print(\"Hello, Everyone!\")"
   ]
  },
  {
   "cell_type": "code",
   "execution_count": 2,
   "metadata": {},
   "outputs": [
    {
     "name": "stdout",
     "output_type": "stream",
     "text": [
      "And welcome to my Jupyter Notebook that's all about Python.\n",
      "All this is meant to do is make me stronger at Python 3.  \n"
     ]
    }
   ],
   "source": [
    "message_1 = \"And welcome to my Jupyter Notebook that's all about Python.\"\n",
    "\n",
    "message_2 = \"All this is meant to do is make me stronger at Python 3.  \"\n",
    "\n",
    "print(message_1)\n",
    "\n",
    "print(message_2)"
   ]
  },
  {
   "cell_type": "code",
   "execution_count": 3,
   "metadata": {},
   "outputs": [
    {
     "name": "stdout",
     "output_type": "stream",
     "text": [
      "I'll be your host, Nick Joseph, and as you can see, we're starting from the very beginning.\n"
     ]
    }
   ],
   "source": [
    "name = \"Nick Joseph\"\n",
    "\n",
    "print(f\"I'll be your host, {name}, and as you can see, we're starting from the very beginning.\")"
   ]
  },
  {
   "cell_type": "code",
   "execution_count": 4,
   "metadata": {},
   "outputs": [
    {
     "name": "stdout",
     "output_type": "stream",
     "text": [
      "I'm from San Antonio, TX, and am good with hot temps, but freak out when cold fronts lower than 70 move in.\n"
     ]
    }
   ],
   "source": [
    "city_first = \"san\"\n",
    "\n",
    "city_second = \"Antonio\"\n",
    "\n",
    "full_city = f\"{city_first.title()} {city_second.title()}\"\n",
    "\n",
    "print(f\"I'm from {full_city}, TX, and am good with hot temps, but freak out when cold fronts lower than 70 move in.\")"
   ]
  },
  {
   "cell_type": "code",
   "execution_count": 5,
   "metadata": {},
   "outputs": [
    {
     "name": "stdout",
     "output_type": "stream",
     "text": [
      "I love music, sure, but I mostly listen to the following podcasts: \n",
      "\tJocko, \n",
      "\tACS, \n",
      "\tThe Unraveling\n"
     ]
    }
   ],
   "source": [
    "podcasts = \"\\n\\tJocko, \\n\\tACS, \\n\\tThe Unraveling\"\n",
    "\n",
    "print(f\"I love music, sure, but I mostly listen to the following podcasts: {podcasts}\")"
   ]
  },
  {
   "cell_type": "markdown",
   "metadata": {},
   "source": [
    "### Exercises"
   ]
  },
  {
   "cell_type": "markdown",
   "metadata": {},
   "source": [
    "#### 1.) Personal message: use a variable to represent a person's name and print a simple message to that person."
   ]
  },
  {
   "cell_type": "code",
   "execution_count": 6,
   "metadata": {},
   "outputs": [
    {
     "name": "stdout",
     "output_type": "stream",
     "text": [
      "Aloha, Steve Buscemi!  I'm a HUGE fan of your stuff, but your role as the assassin in \n",
      "'Billy Madison' is still my fave!\n"
     ]
    }
   ],
   "source": [
    "person = \"steve buscemi\"\n",
    "\n",
    "message = f\"Aloha, {person.title()}!  I'm a HUGE fan of your stuff, but your role as the assassin in \\n'Billy Madison' is still my fave!\"\n",
    "\n",
    "print(message)"
   ]
  },
  {
   "cell_type": "markdown",
   "metadata": {},
   "source": [
    "#### 2.) Use a variable to represent a person's name, then print their name out in lowercase, uppercase, and title case"
   ]
  },
  {
   "cell_type": "code",
   "execution_count": 7,
   "metadata": {},
   "outputs": [
    {
     "name": "stdout",
     "output_type": "stream",
     "text": [
      "MISTER PINK\n",
      "mister pink\n",
      "Mister Pink\n"
     ]
    }
   ],
   "source": [
    "name = \"mister pink\"\n",
    "\n",
    "print(name.upper())\n",
    "\n",
    "print(name.lower())\n",
    "\n",
    "print(name.title())"
   ]
  },
  {
   "cell_type": "markdown",
   "metadata": {},
   "source": [
    "#### 3.) Print a quote and name the author"
   ]
  },
  {
   "cell_type": "code",
   "execution_count": 8,
   "metadata": {},
   "outputs": [
    {
     "name": "stdout",
     "output_type": "stream",
     "text": [
      "'I don't want to kill anybody, \n",
      "but if I gotta get out that door, \n",
      "and you're standing in my way, \n",
      "one way or the other, \n",
      "you're getting out of my way.' - Mister Pink\n"
     ]
    }
   ],
   "source": [
    "quote = \"'I don't want to kill anybody, \\nbut if I gotta get out that door, \\nand you're standing in my way, \\none way or the other, \\nyou're getting out of my way.'\"\n",
    "\n",
    "# from cell above\n",
    "# name = \"mister pink\"\n",
    "\n",
    "print(f\"{quote} - {name.title()}\")"
   ]
  },
  {
   "cell_type": "markdown",
   "metadata": {},
   "source": [
    "#### 4.) Include some whitespace in creating a variable that contains a famous person's name.  Use '\\n' and '\\t' at least once.  Print the name so that the whitespace is displayed, then use 'lstrip( ),' 'rstrip( ), and 'strip( )' to clean it up a bit"
   ]
  },
  {
   "cell_type": "code",
   "execution_count": 9,
   "metadata": {},
   "outputs": [
    {
     "name": "stdout",
     "output_type": "stream",
     "text": [
      "  nucky thompson  \n",
      "\n",
      "nucky thompson  \n",
      "\t  nucky thompson  \n",
      "\tnucky thompson\n",
      "\n",
      "  nucky thompson\n",
      "\tPlayed by Steve Buscemi, 'Nucky Thompson' is the politician who runs New Jersey like a mob boss.\n"
     ]
    }
   ],
   "source": [
    "famous_person = \"  nucky thompson  \"\n",
    "\n",
    "print(f\"{famous_person}\")\n",
    "\n",
    "print(f\"\\n{famous_person.lstrip()}\")\n",
    "\n",
    "print(f\"\\t{famous_person}\")\n",
    "\n",
    "print(f\"\\t{famous_person.strip()}\")\n",
    "\n",
    "print(f\"\\n{famous_person.rstrip()}\")\n",
    "\n",
    "print(f\"\\tPlayed by {person.title()}, '{famous_person.title().strip()}' is the politician who runs New Jersey like a mob boss.\")"
   ]
  },
  {
   "cell_type": "markdown",
   "metadata": {},
   "source": [
    "#### 5.) Write addition, subtraction, multiplication, and division operations that each result in the number 8.  Be sure to enclose the operations in print calls to see the results."
   ]
  },
  {
   "cell_type": "code",
   "execution_count": 10,
   "metadata": {},
   "outputs": [
    {
     "name": "stdout",
     "output_type": "stream",
     "text": [
      "8\n",
      "8\n",
      "8\n",
      "8.0\n"
     ]
    }
   ],
   "source": [
    "print(5 + 3)\n",
    "\n",
    "print(1000 - 992)\n",
    "\n",
    "print(2 * 4)\n",
    "\n",
    "print(80 / 10) # expect a decimal point back because anytime you divide using Python, a float returns."
   ]
  },
  {
   "cell_type": "markdown",
   "metadata": {},
   "source": [
    "#### 6.) Use a variable to store my favorite number.  Then create a message that reveals that number.  Print that message."
   ]
  },
  {
   "cell_type": "code",
   "execution_count": 11,
   "metadata": {},
   "outputs": [
    {
     "name": "stdout",
     "output_type": "stream",
     "text": [
      "My favorite number is the jersey worn by Chucky Mullins and honors the very definition of 'Strong'.\n",
      "Can you guess that number?\n",
      "It's 38\n"
     ]
    }
   ],
   "source": [
    "# A timer would make this short exercise better, but not including one at this time, \n",
    "# as I'm sticking to the exercises as best I can.\n",
    "\n",
    "favorite_number = 38\n",
    "\n",
    "message = \"My favorite number is the jersey worn by Chucky Mullins and honors the very definition of 'Strong'.\\nCan you guess that number?\"\n",
    "\n",
    "print(message)\n",
    "\n",
    "print(f\"It's {favorite_number}\")"
   ]
  }
 ],
 "metadata": {
  "kernelspec": {
   "display_name": "Python 3",
   "language": "python",
   "name": "python3"
  },
  "language_info": {
   "codemirror_mode": {
    "name": "ipython",
    "version": 3
   },
   "file_extension": ".py",
   "mimetype": "text/x-python",
   "name": "python",
   "nbconvert_exporter": "python",
   "pygments_lexer": "ipython3",
   "version": "3.7.4"
  }
 },
 "nbformat": 4,
 "nbformat_minor": 2
}
